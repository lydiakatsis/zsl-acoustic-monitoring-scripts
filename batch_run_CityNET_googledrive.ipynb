{
  "nbformat": 4,
  "nbformat_minor": 0,
  "metadata": {
    "colab": {
      "provenance": [],
      "authorship_tag": "ABX9TyNsjTuO5p/H5eyWn181WLGY",
      "include_colab_link": true
    },
    "kernelspec": {
      "name": "python3",
      "display_name": "Python 3"
    },
    "language_info": {
      "name": "python"
    },
    "accelerator": "GPU"
  },
  "cells": [
    {
      "cell_type": "markdown",
      "metadata": {
        "id": "view-in-github",
        "colab_type": "text"
      },
      "source": [
        "<a href=\"https://colab.research.google.com/github/lydiakatsis/zsl-acoustic-monitoring-scripts/blob/main/batch_run_CityNET_googledrive.ipynb\" target=\"_parent\"><img src=\"https://colab.research.google.com/assets/colab-badge.svg\" alt=\"Open In Colab\"/></a>"
      ]
    },
    {
      "cell_type": "markdown",
      "source": [
        "#**Run CityNet classifier on GoogleDrive folder** \n",
        "\n",
        "code from https://github.com/mdfirman/CityNet "
      ],
      "metadata": {
        "id": "YATLSw61CzzD"
      }
    },
    {
      "cell_type": "markdown",
      "source": [
        "# CityNet - a neural network for urban sounds\n",
        "\n",
        "CityNet is a machine-learned system for estimating the level of **biotic** and **anthropogenic** sound at each moment in time in an audio file.\n",
        "\n",
        "The system has been trained and validated on human-labelled audio files captured from green spaces around London.\n",
        "\n",
        "CityNet comprises a neural network classifier, which operates on audio spectrograms to produce a measure of biotic or anthropogenic activity level.\n",
        "\n",
        "More details of the method are available from the paper:\n",
        "\n",
        "> **[CityNet - Deep Learning Tools for Urban Ecoacoustic Assessment](https://doi.org/10.1101/248708)**\n",
        ">\n",
        "> Alison J Fairbrass, Michael Firman, Carol Williams, Gabriel J Brostow, Helena Titheridge and Kate E Jones\n",
        ">\n",
        "> **doi**: https://doi.org/10.1101/248708\n",
        "\n",
        "\n",
        "## How to classify a new audio file with CityNet\n",
        "\n",
        "- Run `python demo.py` to classify an example audio file.\n",
        "- Predictions should be saved in the folder `demo`.\n",
        "- Your newly-created file `demo/prediction.pdf` should look identical to the provided file `demo/reference_prediction.pdf`:\n",
        "\n",
        "## How to classify multiple audio files\n",
        "\n",
        "You can run CityNet on a folder of audio files with:\n",
        "\n",
        "```bash\n",
        "python multi_predict.py path/to/audio/files\n",
        "```\n",
        "\n",
        "This will save summaries of what is found in each wav file found to `prediction_summaries.csv`.\n"
      ],
      "metadata": {
        "id": "8uylqDstewJ4"
      }
    },
    {
      "cell_type": "markdown",
      "source": [
        "# Clone the repo"
      ],
      "metadata": {
        "id": "MeULjHXJECZs"
      }
    },
    {
      "cell_type": "code",
      "execution_count": null,
      "metadata": {
        "id": "P68HXbJoKSq1"
      },
      "outputs": [],
      "source": [
        "!git clone https://github.com/mdfirman/CityNet.git"
      ]
    },
    {
      "cell_type": "markdown",
      "source": [
        "**Install packages**"
      ],
      "metadata": {
        "id": "flp1nhdOJ39V"
      }
    },
    {
      "cell_type": "code",
      "source": [
        "!pip install tf_slim\n",
        "!pip install -U PyYAML\n",
        "!pip install librosa"
      ],
      "metadata": {
        "id": "L--WNvPNgCVo"
      },
      "execution_count": null,
      "outputs": []
    },
    {
      "cell_type": "markdown",
      "source": [
        "# Mount GoogleDrive\n",
        "For instructions using Teams or GoogleBucket go here."
      ],
      "metadata": {
        "id": "yc7h-nNWb9pR"
      }
    },
    {
      "cell_type": "code",
      "source": [
        "from google.colab import drive\n",
        "drive.mount('/content/drive')"
      ],
      "metadata": {
        "colab": {
          "base_uri": "https://localhost:8080/"
        },
        "id": "mE4spjhgRDvF",
        "outputId": "228f3202-f6d4-4e15-c769-4fe832cdb36c"
      },
      "execution_count": 4,
      "outputs": [
        {
          "output_type": "stream",
          "name": "stdout",
          "text": [
            "Mounted at /content/drive\n"
          ]
        }
      ]
    },
    {
      "cell_type": "markdown",
      "source": [
        "# **Load model**\n",
        "\n",
        "Running through the scripit demo.py both loads the model and checks everything is installed properly."
      ],
      "metadata": {
        "id": "ojipkydAQ6eX"
      }
    },
    {
      "cell_type": "code",
      "source": [
        "cd CityNet"
      ],
      "metadata": {
        "id": "vkOd-UlnLbCN"
      },
      "execution_count": null,
      "outputs": []
    },
    {
      "cell_type": "code",
      "source": [
        "!python demo.py"
      ],
      "metadata": {
        "id": "OpM40aAtLWrF"
      },
      "execution_count": null,
      "outputs": []
    },
    {
      "cell_type": "markdown",
      "source": [
        "# Run predictions on folder"
      ],
      "metadata": {
        "id": "_6IGzQm_L72s"
      }
    },
    {
      "cell_type": "code",
      "source": [
        "folder = \"/content/drive/MyDrive/ZSL/Network Rail project/trial_data\"  "
      ],
      "metadata": {
        "id": "g93fEeTdL7dV"
      },
      "execution_count": 7,
      "outputs": []
    },
    {
      "cell_type": "code",
      "source": [
        "!python /content/CityNet/multi_predict.py \"$folder\""
      ],
      "metadata": {
        "id": "lGMyBI4PMC39"
      },
      "execution_count": null,
      "outputs": []
    },
    {
      "cell_type": "markdown",
      "source": [
        "# Plot results"
      ],
      "metadata": {
        "id": "i2ARx4OkMY9M"
      }
    },
    {
      "cell_type": "code",
      "source": [
        "import pandas as pd\n",
        "prediction_summaries = pd.read_csv('prediction_summaries.csv')"
      ],
      "metadata": {
        "id": "WVG7iDYhMbwF"
      },
      "execution_count": null,
      "outputs": []
    },
    {
      "cell_type": "code",
      "source": [
        "prediction_summaries"
      ],
      "metadata": {
        "colab": {
          "base_uri": "https://localhost:8080/",
          "height": 677
        },
        "id": "w30iq2azSk9E",
        "outputId": "d5aaa4c4-308a-4321-f376-163432153890"
      },
      "execution_count": null,
      "outputs": [
        {
          "output_type": "execute_result",
          "data": {
            "text/html": [
              "\n",
              "  <div id=\"df-a60fe61e-c93f-4373-958c-8a430ca12b8d\">\n",
              "    <div class=\"colab-df-container\">\n",
              "      <div>\n",
              "<style scoped>\n",
              "    .dataframe tbody tr th:only-of-type {\n",
              "        vertical-align: middle;\n",
              "    }\n",
              "\n",
              "    .dataframe tbody tr th {\n",
              "        vertical-align: top;\n",
              "    }\n",
              "\n",
              "    .dataframe thead th {\n",
              "        text-align: right;\n",
              "    }\n",
              "</style>\n",
              "<table border=\"1\" class=\"dataframe\">\n",
              "  <thead>\n",
              "    <tr style=\"text-align: right;\">\n",
              "      <th></th>\n",
              "      <th>Filename</th>\n",
              "      <th>Average biotic sound</th>\n",
              "      <th>Average anthropogenic sound</th>\n",
              "    </tr>\n",
              "  </thead>\n",
              "  <tbody>\n",
              "    <tr>\n",
              "      <th>0</th>\n",
              "      <td>20220223_140841.WAV</td>\n",
              "      <td>0.266</td>\n",
              "      <td>0.949</td>\n",
              "    </tr>\n",
              "    <tr>\n",
              "      <th>1</th>\n",
              "      <td>20220223_150000.WAV</td>\n",
              "      <td>0.407</td>\n",
              "      <td>0.980</td>\n",
              "    </tr>\n",
              "    <tr>\n",
              "      <th>2</th>\n",
              "      <td>20220223_160000.WAV</td>\n",
              "      <td>0.429</td>\n",
              "      <td>0.984</td>\n",
              "    </tr>\n",
              "    <tr>\n",
              "      <th>3</th>\n",
              "      <td>20220223_170000.WAV</td>\n",
              "      <td>0.550</td>\n",
              "      <td>0.984</td>\n",
              "    </tr>\n",
              "    <tr>\n",
              "      <th>4</th>\n",
              "      <td>20220223_180000.WAV</td>\n",
              "      <td>0.342</td>\n",
              "      <td>0.987</td>\n",
              "    </tr>\n",
              "    <tr>\n",
              "      <th>5</th>\n",
              "      <td>20220223_190000.WAV</td>\n",
              "      <td>0.283</td>\n",
              "      <td>0.981</td>\n",
              "    </tr>\n",
              "    <tr>\n",
              "      <th>6</th>\n",
              "      <td>20220223_200000.WAV</td>\n",
              "      <td>0.271</td>\n",
              "      <td>0.985</td>\n",
              "    </tr>\n",
              "    <tr>\n",
              "      <th>7</th>\n",
              "      <td>20220223_210000.WAV</td>\n",
              "      <td>0.229</td>\n",
              "      <td>0.981</td>\n",
              "    </tr>\n",
              "    <tr>\n",
              "      <th>8</th>\n",
              "      <td>20220223_220000.WAV</td>\n",
              "      <td>0.240</td>\n",
              "      <td>0.981</td>\n",
              "    </tr>\n",
              "    <tr>\n",
              "      <th>9</th>\n",
              "      <td>20220223_230000.WAV</td>\n",
              "      <td>0.207</td>\n",
              "      <td>0.982</td>\n",
              "    </tr>\n",
              "    <tr>\n",
              "      <th>10</th>\n",
              "      <td>20220224_000000.WAV</td>\n",
              "      <td>0.213</td>\n",
              "      <td>0.977</td>\n",
              "    </tr>\n",
              "    <tr>\n",
              "      <th>11</th>\n",
              "      <td>20220224_010000.WAV</td>\n",
              "      <td>0.184</td>\n",
              "      <td>0.974</td>\n",
              "    </tr>\n",
              "    <tr>\n",
              "      <th>12</th>\n",
              "      <td>20220224_020000.WAV</td>\n",
              "      <td>0.227</td>\n",
              "      <td>0.938</td>\n",
              "    </tr>\n",
              "    <tr>\n",
              "      <th>13</th>\n",
              "      <td>20220224_030000.WAV</td>\n",
              "      <td>0.322</td>\n",
              "      <td>0.958</td>\n",
              "    </tr>\n",
              "    <tr>\n",
              "      <th>14</th>\n",
              "      <td>20220224_040000.WAV</td>\n",
              "      <td>0.815</td>\n",
              "      <td>0.971</td>\n",
              "    </tr>\n",
              "    <tr>\n",
              "      <th>15</th>\n",
              "      <td>20220224_050000.WAV</td>\n",
              "      <td>0.754</td>\n",
              "      <td>0.983</td>\n",
              "    </tr>\n",
              "    <tr>\n",
              "      <th>16</th>\n",
              "      <td>20220224_060000.WAV</td>\n",
              "      <td>0.376</td>\n",
              "      <td>0.987</td>\n",
              "    </tr>\n",
              "    <tr>\n",
              "      <th>17</th>\n",
              "      <td>20220224_070000.WAV</td>\n",
              "      <td>0.546</td>\n",
              "      <td>0.989</td>\n",
              "    </tr>\n",
              "    <tr>\n",
              "      <th>18</th>\n",
              "      <td>20220224_080000.WAV</td>\n",
              "      <td>0.655</td>\n",
              "      <td>0.990</td>\n",
              "    </tr>\n",
              "    <tr>\n",
              "      <th>19</th>\n",
              "      <td>20220224_090000.WAV</td>\n",
              "      <td>0.306</td>\n",
              "      <td>0.996</td>\n",
              "    </tr>\n",
              "  </tbody>\n",
              "</table>\n",
              "</div>\n",
              "      <button class=\"colab-df-convert\" onclick=\"convertToInteractive('df-a60fe61e-c93f-4373-958c-8a430ca12b8d')\"\n",
              "              title=\"Convert this dataframe to an interactive table.\"\n",
              "              style=\"display:none;\">\n",
              "        \n",
              "  <svg xmlns=\"http://www.w3.org/2000/svg\" height=\"24px\"viewBox=\"0 0 24 24\"\n",
              "       width=\"24px\">\n",
              "    <path d=\"M0 0h24v24H0V0z\" fill=\"none\"/>\n",
              "    <path d=\"M18.56 5.44l.94 2.06.94-2.06 2.06-.94-2.06-.94-.94-2.06-.94 2.06-2.06.94zm-11 1L8.5 8.5l.94-2.06 2.06-.94-2.06-.94L8.5 2.5l-.94 2.06-2.06.94zm10 10l.94 2.06.94-2.06 2.06-.94-2.06-.94-.94-2.06-.94 2.06-2.06.94z\"/><path d=\"M17.41 7.96l-1.37-1.37c-.4-.4-.92-.59-1.43-.59-.52 0-1.04.2-1.43.59L10.3 9.45l-7.72 7.72c-.78.78-.78 2.05 0 2.83L4 21.41c.39.39.9.59 1.41.59.51 0 1.02-.2 1.41-.59l7.78-7.78 2.81-2.81c.8-.78.8-2.07 0-2.86zM5.41 20L4 18.59l7.72-7.72 1.47 1.35L5.41 20z\"/>\n",
              "  </svg>\n",
              "      </button>\n",
              "      \n",
              "  <style>\n",
              "    .colab-df-container {\n",
              "      display:flex;\n",
              "      flex-wrap:wrap;\n",
              "      gap: 12px;\n",
              "    }\n",
              "\n",
              "    .colab-df-convert {\n",
              "      background-color: #E8F0FE;\n",
              "      border: none;\n",
              "      border-radius: 50%;\n",
              "      cursor: pointer;\n",
              "      display: none;\n",
              "      fill: #1967D2;\n",
              "      height: 32px;\n",
              "      padding: 0 0 0 0;\n",
              "      width: 32px;\n",
              "    }\n",
              "\n",
              "    .colab-df-convert:hover {\n",
              "      background-color: #E2EBFA;\n",
              "      box-shadow: 0px 1px 2px rgba(60, 64, 67, 0.3), 0px 1px 3px 1px rgba(60, 64, 67, 0.15);\n",
              "      fill: #174EA6;\n",
              "    }\n",
              "\n",
              "    [theme=dark] .colab-df-convert {\n",
              "      background-color: #3B4455;\n",
              "      fill: #D2E3FC;\n",
              "    }\n",
              "\n",
              "    [theme=dark] .colab-df-convert:hover {\n",
              "      background-color: #434B5C;\n",
              "      box-shadow: 0px 1px 3px 1px rgba(0, 0, 0, 0.15);\n",
              "      filter: drop-shadow(0px 1px 2px rgba(0, 0, 0, 0.3));\n",
              "      fill: #FFFFFF;\n",
              "    }\n",
              "  </style>\n",
              "\n",
              "      <script>\n",
              "        const buttonEl =\n",
              "          document.querySelector('#df-a60fe61e-c93f-4373-958c-8a430ca12b8d button.colab-df-convert');\n",
              "        buttonEl.style.display =\n",
              "          google.colab.kernel.accessAllowed ? 'block' : 'none';\n",
              "\n",
              "        async function convertToInteractive(key) {\n",
              "          const element = document.querySelector('#df-a60fe61e-c93f-4373-958c-8a430ca12b8d');\n",
              "          const dataTable =\n",
              "            await google.colab.kernel.invokeFunction('convertToInteractive',\n",
              "                                                     [key], {});\n",
              "          if (!dataTable) return;\n",
              "\n",
              "          const docLinkHtml = 'Like what you see? Visit the ' +\n",
              "            '<a target=\"_blank\" href=https://colab.research.google.com/notebooks/data_table.ipynb>data table notebook</a>'\n",
              "            + ' to learn more about interactive tables.';\n",
              "          element.innerHTML = '';\n",
              "          dataTable['output_type'] = 'display_data';\n",
              "          await google.colab.output.renderOutput(dataTable, element);\n",
              "          const docLink = document.createElement('div');\n",
              "          docLink.innerHTML = docLinkHtml;\n",
              "          element.appendChild(docLink);\n",
              "        }\n",
              "      </script>\n",
              "    </div>\n",
              "  </div>\n",
              "  "
            ],
            "text/plain": [
              "               Filename  Average biotic sound  Average anthropogenic sound\n",
              "0   20220223_140841.WAV                 0.266                        0.949\n",
              "1   20220223_150000.WAV                 0.407                        0.980\n",
              "2   20220223_160000.WAV                 0.429                        0.984\n",
              "3   20220223_170000.WAV                 0.550                        0.984\n",
              "4   20220223_180000.WAV                 0.342                        0.987\n",
              "5   20220223_190000.WAV                 0.283                        0.981\n",
              "6   20220223_200000.WAV                 0.271                        0.985\n",
              "7   20220223_210000.WAV                 0.229                        0.981\n",
              "8   20220223_220000.WAV                 0.240                        0.981\n",
              "9   20220223_230000.WAV                 0.207                        0.982\n",
              "10  20220224_000000.WAV                 0.213                        0.977\n",
              "11  20220224_010000.WAV                 0.184                        0.974\n",
              "12  20220224_020000.WAV                 0.227                        0.938\n",
              "13  20220224_030000.WAV                 0.322                        0.958\n",
              "14  20220224_040000.WAV                 0.815                        0.971\n",
              "15  20220224_050000.WAV                 0.754                        0.983\n",
              "16  20220224_060000.WAV                 0.376                        0.987\n",
              "17  20220224_070000.WAV                 0.546                        0.989\n",
              "18  20220224_080000.WAV                 0.655                        0.990\n",
              "19  20220224_090000.WAV                 0.306                        0.996"
            ]
          },
          "metadata": {},
          "execution_count": 19
        }
      ]
    },
    {
      "cell_type": "code",
      "source": [
        "# Plot average per hour for site\n",
        "def fname_to_time(fname):\n",
        "    return fname.split('_')[-1][:4]\n",
        "\n",
        "def date(fname):\n",
        "    return fname.split('_')[0]"
      ],
      "metadata": {
        "id": "ZHLz1ETfSupE"
      },
      "execution_count": null,
      "outputs": []
    },
    {
      "cell_type": "code",
      "source": [
        "prediction_summaries['hour'] = [fname.split('_')[-1][:2] for fname in prediction_summaries['Filename']]\n",
        "prediction_summaries['date'] = [fname.split('_')[0] for fname in prediction_summaries['Filename']]\n"
      ],
      "metadata": {
        "id": "x3CJqAn-TZlj"
      },
      "execution_count": null,
      "outputs": []
    },
    {
      "cell_type": "code",
      "source": [
        "import matplotlib.pyplot as plt\n",
        "plt.plot(prediction_summaries['hour'] , prediction_summaries['Average biotic sound'] )\n",
        "plt.plot(prediction_summaries['hour'] , prediction_summaries['Average anthropogenic sound'] )\n",
        "plt.xlabel('Hour of day')\n",
        "plt.ylabel('Level of activity')\n",
        "plt.xlim(0, 24)\n",
        "plt.ylim(0, 1)\n",
        "#plt.xticks([0, 6, 12, 18, 24], ['00:00', '06:00', '12:00', '18:00', '24:00'])\n",
        "#plt.yticks([0, 0.2, 0.4, 0.6, 0.8, 1.0], fontsize=14)\n",
        "plt.yticks([0, 1.0])\n"
      ],
      "metadata": {
        "colab": {
          "base_uri": "https://localhost:8080/",
          "height": 335
        },
        "id": "9O9SHgELTdR6",
        "outputId": "6a142fc5-cad3-4c5f-b052-3aa8e386f67c"
      },
      "execution_count": null,
      "outputs": [
        {
          "output_type": "execute_result",
          "data": {
            "text/plain": [
              "([<matplotlib.axis.YTick at 0x7f984f5cbf90>,\n",
              "  <matplotlib.axis.YTick at 0x7f984d817a50>],\n",
              " <a list of 2 Text major ticklabel objects>)"
            ]
          },
          "metadata": {},
          "execution_count": 33
        },
        {
          "output_type": "display_data",
          "data": {
            "image/png": "[encoded data removed]",
            "text/plain": [
              "<Figure size 432x288 with 1 Axes>"
            ]
          },
          "metadata": {
            "needs_background": "light"
          }
        }
      ]
    },
    {
      "cell_type": "markdown",
      "source": [],
      "metadata": {
        "id": "afHn-f1ZSukS"
      }
    }
  ]
}