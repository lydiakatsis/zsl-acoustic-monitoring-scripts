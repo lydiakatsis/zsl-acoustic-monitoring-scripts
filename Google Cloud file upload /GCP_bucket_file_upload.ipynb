{
  "nbformat": 4,
  "nbformat_minor": 0,
  "metadata": {
    "colab": {
      "provenance": [],
      "authorship_tag": "ABX9TyPcPj/8TTYxTU3CM8jTy3fW"
    },
    "kernelspec": {
      "name": "python3",
      "display_name": "Python 3"
    },
    "language_info": {
      "name": "python"
    }
  },
  "cells": [
    {
      "cell_type": "markdown",
      "source": [
        "# Google cloud tool for uploading data to Google Bucket\n",
        "\n",
        "We will use the gcloud SDK tools for transfering data to our Google Buckets - this tool is very efficient, and automatically splits up the files into smaller chunks for transfer. Additionally, if the transfer is stopped for any reason such as a cut in internet, or the computer is turned off, it can easily be resumed - it will simply look at the differences between the two directories and resume copying from where it left off.\n",
        "\n",
        "***These instructions all assume you are typing directly into your computer terminal, if you wish to execute them from within a python environment, e.g. a JupyterNotebook, then just insert '!' before each command.***"
      ],
      "metadata": {
        "id": "qq-1B1GIQAIJ"
      }
    },
    {
      "cell_type": "markdown",
      "source": [
        "# Set up\n",
        "\n",
        "Step 1:\n",
        "Set up requires downloading the Google Cloud SDK from [here](https://cloud.google.com/sdk/docs/install) \n",
        "\n",
        "Step 2: \n",
        "To use the Cloud SDK it needs to be initialised by signing into the GCP account. First open your terminal and type:\n",
        "\n",
        "```\n",
        "gcloud init\n",
        "```\n",
        "\n",
        "* Depending on whether you have previously authorized access to Google Cloud, you might be prompted to log in and grant access in a web browser or to select an existing account.\n",
        "\n",
        "* Choose a current Google Cloud project if prompted.\n",
        "\n",
        "* Choose a default Compute Engine zone if prompted. (London is europewest-2)"
      ],
      "metadata": {
        "id": "Z3lTQt9ZsDqu"
      }
    },
    {
      "cell_type": "markdown",
      "source": [
        "# Copying files from a local drive to your Google Bucket\n",
        "\n",
        "You can use the Google Cloud User interface to create a new Bucket for your project, or select an existing Bucket. The path to your bucket will be the following:\n",
        "\n",
        "```\n",
        "gs://{bucket-name}\n",
        "```\n",
        "E.g. the path for the Network rail project is: `gs://nr-acoustic-data`\n",
        "\n",
        "If you want to copy all the files within several folders to your Bucket, and also preserve the folder structure, then you can run the following command from your terminal:\n",
        "\n",
        "\n",
        "```\n",
        "gcloud storage cp -r '/path/to/data/' gs://nr-acoustic-data/\n",
        "```\n",
        "\n",
        "\n",
        "If you want to include wildcards (e.g. '*' to denote multiple options), you can use the following. (Note: the ' ' around the path may or may not be needed depending on the terminal type you are using, trial both and see which works.)\n",
        "\n",
        "```\n",
        "gcloud storage cp -r '/path/to/data/*/*/' gs://nr-acoustic-data/\n",
        "```\n",
        "\n"
      ],
      "metadata": {
        "id": "nPWImWvGupG7"
      }
    },
    {
      "cell_type": "markdown",
      "source": [
        "# Example\n",
        "\n",
        "This is how I coped all the .WAV files only from my hardrive into the bucket. Note - the folder hierarchy dissappears with this command and all .WAV files are placed directly into the bucket: e.g. gs://bucket/123.WAV\n",
        "\n",
        "```\n",
        "gcloud storage cp /Volumes/T7_Touch/ZSL/Data/*.WAV   gs://nr-acoustic-data/\n",
        "```\n",
        "\n",
        "This is how I copied all the folder directories within my external hardrive into the bucket, the resulting structure within the bucket was then exactly the same as that from my hard drive:\n",
        "\n",
        "```\n",
        "gcloud storage cp -r '/Volumes/T7_Touch/ZSL/Data/*/*/' gs://nr-acoustic-data/\n",
        "```"
      ],
      "metadata": {
        "id": "jvkrjRL5xX82"
      }
    }
  ]
}