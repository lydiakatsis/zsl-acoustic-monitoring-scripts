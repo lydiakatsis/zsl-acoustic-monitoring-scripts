{
  "nbformat": 4,
  "nbformat_minor": 0,
  "metadata": {
    "colab": {
      "provenance": [],
      "authorship_tag": "ABX9TyNFHnusToM56+vwgKQHPjf0",
      "include_colab_link": true
    },
    "kernelspec": {
      "name": "python3",
      "display_name": "Python 3"
    },
    "language_info": {
      "name": "python"
    },
    "accelerator": "GPU"
  },
  "cells": [
    {
      "cell_type": "markdown",
      "metadata": {
        "id": "view-in-github",
        "colab_type": "text"
      },
      "source": [
        "<a href=\"https://colab.research.google.com/github/lydiakatsis/zsl-acoustic-monitoring-scripts/blob/main/batch_run_CityNET_googledrive.ipynb\" target=\"_parent\"><img src=\"https://colab.research.google.com/assets/colab-badge.svg\" alt=\"Open In Colab\"/></a>"
      ]
    },
    {
      "cell_type": "markdown",
      "source": [
        "#**Run CityNet classifier on GoogleDrive folder** \n",
        "\n",
        "code from https://github.com/mdfirman/CityNet "
      ],
      "metadata": {
        "id": "YATLSw61CzzD"
      }
    },
    {
      "cell_type": "markdown",
      "source": [
        "# CityNet - a neural network for urban sounds\n",
        "\n",
        "CityNet is a machine-learned system for estimating the level of **biotic** and **anthropogenic** sound at each moment in time in an audio file.\n",
        "\n",
        "The system has been trained and validated on human-labelled audio files captured from green spaces around London.\n",
        "\n",
        "CityNet comprises a neural network classifier, which operates on audio spectrograms to produce a measure of biotic or anthropogenic activity level.\n",
        "\n",
        "More details of the method are available from the paper:\n",
        "\n",
        "> **[CityNet - Deep Learning Tools for Urban Ecoacoustic Assessment](https://doi.org/10.1101/248708)**\n",
        ">\n",
        "> Alison J Fairbrass, Michael Firman, Carol Williams, Gabriel J Brostow, Helena Titheridge and Kate E Jones\n",
        ">\n",
        "> **doi**: https://doi.org/10.1101/248708\n",
        "\n",
        "\n",
        "## How to classify a new audio file with CityNet\n",
        "\n",
        "- Run `python demo.py` to classify an example audio file.\n",
        "- Predictions should be saved in the folder `demo`.\n",
        "- Your newly-created file `demo/prediction.pdf` should look identical to the provided file `demo/reference_prediction.pdf`:\n",
        "\n",
        "## How to classify multiple audio files\n",
        "\n",
        "You can run CityNet on a folder of audio files with:\n",
        "\n",
        "```bash\n",
        "python multi_predict.py path/to/audio/files\n",
        "```\n",
        "\n",
        "This will save summaries of what is found in each wav file found to `prediction_summaries.csv`.\n"
      ],
      "metadata": {
        "id": "8uylqDstewJ4"
      }
    },
    {
      "cell_type": "markdown",
      "source": [
        "# Clone the repo"
      ],
      "metadata": {
        "id": "MeULjHXJECZs"
      }
    },
    {
      "cell_type": "code",
      "execution_count": null,
      "metadata": {
        "id": "P68HXbJoKSq1"
      },
      "outputs": [],
      "source": [
        "!git clone https://github.com/mdfirman/CityNet.git"
      ]
    },
    {
      "cell_type": "markdown",
      "source": [
        "**Install packages**"
      ],
      "metadata": {
        "id": "flp1nhdOJ39V"
      }
    },
    {
      "cell_type": "code",
      "source": [
        "!pip install tf_slim\n",
        "!pip install -U PyYAML\n",
        "!pip install librosa"
      ],
      "metadata": {
        "id": "L--WNvPNgCVo"
      },
      "execution_count": null,
      "outputs": []
    },
    {
      "cell_type": "markdown",
      "source": [
        "# Mount GoogleDrive\n",
        "For instructions using Teams or GoogleBucket go here."
      ],
      "metadata": {
        "id": "yc7h-nNWb9pR"
      }
    },
    {
      "cell_type": "code",
      "source": [
        "from google.colab import drive\n",
        "drive.mount('/content/drive')"
      ],
      "metadata": {
        "colab": {
          "base_uri": "https://localhost:8080/"
        },
        "id": "mE4spjhgRDvF",
        "outputId": "228f3202-f6d4-4e15-c769-4fe832cdb36c"
      },
      "execution_count": null,
      "outputs": [
        {
          "output_type": "stream",
          "name": "stdout",
          "text": [
            "Mounted at /content/drive\n"
          ]
        }
      ]
    },
    {
      "cell_type": "markdown",
      "source": [
        "# **Load model**\n",
        "\n",
        "Running through the scripit demo.py both loads the model and checks everything is installed properly."
      ],
      "metadata": {
        "id": "ojipkydAQ6eX"
      }
    },
    {
      "cell_type": "code",
      "source": [
        "cd CityNet"
      ],
      "metadata": {
        "id": "vkOd-UlnLbCN"
      },
      "execution_count": null,
      "outputs": []
    },
    {
      "cell_type": "code",
      "source": [
        "!python demo.py"
      ],
      "metadata": {
        "id": "OpM40aAtLWrF"
      },
      "execution_count": null,
      "outputs": []
    },
    {
      "cell_type": "markdown",
      "source": [
        "# Run predictions on folder"
      ],
      "metadata": {
        "id": "_6IGzQm_L72s"
      }
    },
    {
      "cell_type": "code",
      "source": [
        "folder = \"/content/drive/MyDrive/ZSL/Network Rail project/trial_data\"  "
      ],
      "metadata": {
        "id": "g93fEeTdL7dV"
      },
      "execution_count": null,
      "outputs": []
    },
    {
      "cell_type": "code",
      "source": [
        "!python /content/CityNet/multi_predict.py \"$folder\""
      ],
      "metadata": {
        "id": "lGMyBI4PMC39"
      },
      "execution_count": null,
      "outputs": []
    }
  ]
}