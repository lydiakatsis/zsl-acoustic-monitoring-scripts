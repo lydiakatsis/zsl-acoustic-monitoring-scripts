{
  "nbformat": 4,
  "nbformat_minor": 0,
  "metadata": {
    "colab": {
      "provenance": [],
      "authorship_tag": "ABX9TyN6Z5ueYfqiM2rLA2gpl9hx",
      "include_colab_link": true
    },
    "kernelspec": {
      "name": "python3",
      "display_name": "Python 3"
    },
    "language_info": {
      "name": "python"
    },
    "accelerator": "GPU",
    "gpuClass": "standard",
    "widgets": {
      "application/vnd.jupyter.widget-state+json": {
        "76e23422d7c149df9b3c3572d7067a9b": {
          "model_module": "@jupyter-widgets/controls",
          "model_name": "HBoxModel",
          "model_module_version": "1.5.0",
          "state": {
            "_dom_classes": [],
            "_model_module": "@jupyter-widgets/controls",
            "_model_module_version": "1.5.0",
            "_model_name": "HBoxModel",
            "_view_count": null,
            "_view_module": "@jupyter-widgets/controls",
            "_view_module_version": "1.5.0",
            "_view_name": "HBoxView",
            "box_style": "",
            "children": [
              "IPY_MODEL_c3469007646c4263852cce4fc188f0f8",
              "IPY_MODEL_7044f5191f7845dfaee9334a74dd991d",
              "IPY_MODEL_86315fb4dd024412ab8620619db4660e"
            ],
            "layout": "IPY_MODEL_e41620404f464a40b0d42dfa6db3f841"
          }
        },
        "c3469007646c4263852cce4fc188f0f8": {
          "model_module": "@jupyter-widgets/controls",
          "model_name": "HTMLModel",
          "model_module_version": "1.5.0",
          "state": {
            "_dom_classes": [],
            "_model_module": "@jupyter-widgets/controls",
            "_model_module_version": "1.5.0",
            "_model_name": "HTMLModel",
            "_view_count": null,
            "_view_module": "@jupyter-widgets/controls",
            "_view_module_version": "1.5.0",
            "_view_name": "HTMLView",
            "description": "",
            "description_tooltip": null,
            "layout": "IPY_MODEL_b6cc3764cead4d3c9f589834fd3cfeb0",
            "placeholder": "​",
            "style": "IPY_MODEL_691c093800ae4777b15d81ac97fca550",
            "value": "100%"
          }
        },
        "7044f5191f7845dfaee9334a74dd991d": {
          "model_module": "@jupyter-widgets/controls",
          "model_name": "FloatProgressModel",
          "model_module_version": "1.5.0",
          "state": {
            "_dom_classes": [],
            "_model_module": "@jupyter-widgets/controls",
            "_model_module_version": "1.5.0",
            "_model_name": "FloatProgressModel",
            "_view_count": null,
            "_view_module": "@jupyter-widgets/controls",
            "_view_module_version": "1.5.0",
            "_view_name": "ProgressView",
            "bar_style": "success",
            "description": "",
            "description_tooltip": null,
            "layout": "IPY_MODEL_dc7a2e2848ce446aa48b0f9a1311561b",
            "max": 2,
            "min": 0,
            "orientation": "horizontal",
            "style": "IPY_MODEL_1049b631483d4176a2f21687921ada8f",
            "value": 2
          }
        },
        "86315fb4dd024412ab8620619db4660e": {
          "model_module": "@jupyter-widgets/controls",
          "model_name": "HTMLModel",
          "model_module_version": "1.5.0",
          "state": {
            "_dom_classes": [],
            "_model_module": "@jupyter-widgets/controls",
            "_model_module_version": "1.5.0",
            "_model_name": "HTMLModel",
            "_view_count": null,
            "_view_module": "@jupyter-widgets/controls",
            "_view_module_version": "1.5.0",
            "_view_name": "HTMLView",
            "description": "",
            "description_tooltip": null,
            "layout": "IPY_MODEL_2111fc291b0d4db3ab0dc3b75ac4e207",
            "placeholder": "​",
            "style": "IPY_MODEL_611b0ed3270a41b5ad96d8b395ac2479",
            "value": " 2/2 [00:03&lt;00:00,  1.69s/it]"
          }
        },
        "e41620404f464a40b0d42dfa6db3f841": {
          "model_module": "@jupyter-widgets/base",
          "model_name": "LayoutModel",
          "model_module_version": "1.2.0",
          "state": {
            "_model_module": "@jupyter-widgets/base",
            "_model_module_version": "1.2.0",
            "_model_name": "LayoutModel",
            "_view_count": null,
            "_view_module": "@jupyter-widgets/base",
            "_view_module_version": "1.2.0",
            "_view_name": "LayoutView",
            "align_content": null,
            "align_items": null,
            "align_self": null,
            "border": null,
            "bottom": null,
            "display": null,
            "flex": null,
            "flex_flow": null,
            "grid_area": null,
            "grid_auto_columns": null,
            "grid_auto_flow": null,
            "grid_auto_rows": null,
            "grid_column": null,
            "grid_gap": null,
            "grid_row": null,
            "grid_template_areas": null,
            "grid_template_columns": null,
            "grid_template_rows": null,
            "height": null,
            "justify_content": null,
            "justify_items": null,
            "left": null,
            "margin": null,
            "max_height": null,
            "max_width": null,
            "min_height": null,
            "min_width": null,
            "object_fit": null,
            "object_position": null,
            "order": null,
            "overflow": null,
            "overflow_x": null,
            "overflow_y": null,
            "padding": null,
            "right": null,
            "top": null,
            "visibility": null,
            "width": null
          }
        },
        "b6cc3764cead4d3c9f589834fd3cfeb0": {
          "model_module": "@jupyter-widgets/base",
          "model_name": "LayoutModel",
          "model_module_version": "1.2.0",
          "state": {
            "_model_module": "@jupyter-widgets/base",
            "_model_module_version": "1.2.0",
            "_model_name": "LayoutModel",
            "_view_count": null,
            "_view_module": "@jupyter-widgets/base",
            "_view_module_version": "1.2.0",
            "_view_name": "LayoutView",
            "align_content": null,
            "align_items": null,
            "align_self": null,
            "border": null,
            "bottom": null,
            "display": null,
            "flex": null,
            "flex_flow": null,
            "grid_area": null,
            "grid_auto_columns": null,
            "grid_auto_flow": null,
            "grid_auto_rows": null,
            "grid_column": null,
            "grid_gap": null,
            "grid_row": null,
            "grid_template_areas": null,
            "grid_template_columns": null,
            "grid_template_rows": null,
            "height": null,
            "justify_content": null,
            "justify_items": null,
            "left": null,
            "margin": null,
            "max_height": null,
            "max_width": null,
            "min_height": null,
            "min_width": null,
            "object_fit": null,
            "object_position": null,
            "order": null,
            "overflow": null,
            "overflow_x": null,
            "overflow_y": null,
            "padding": null,
            "right": null,
            "top": null,
            "visibility": null,
            "width": null
          }
        },
        "691c093800ae4777b15d81ac97fca550": {
          "model_module": "@jupyter-widgets/controls",
          "model_name": "DescriptionStyleModel",
          "model_module_version": "1.5.0",
          "state": {
            "_model_module": "@jupyter-widgets/controls",
            "_model_module_version": "1.5.0",
            "_model_name": "DescriptionStyleModel",
            "_view_count": null,
            "_view_module": "@jupyter-widgets/base",
            "_view_module_version": "1.2.0",
            "_view_name": "StyleView",
            "description_width": ""
          }
        },
        "dc7a2e2848ce446aa48b0f9a1311561b": {
          "model_module": "@jupyter-widgets/base",
          "model_name": "LayoutModel",
          "model_module_version": "1.2.0",
          "state": {
            "_model_module": "@jupyter-widgets/base",
            "_model_module_version": "1.2.0",
            "_model_name": "LayoutModel",
            "_view_count": null,
            "_view_module": "@jupyter-widgets/base",
            "_view_module_version": "1.2.0",
            "_view_name": "LayoutView",
            "align_content": null,
            "align_items": null,
            "align_self": null,
            "border": null,
            "bottom": null,
            "display": null,
            "flex": null,
            "flex_flow": null,
            "grid_area": null,
            "grid_auto_columns": null,
            "grid_auto_flow": null,
            "grid_auto_rows": null,
            "grid_column": null,
            "grid_gap": null,
            "grid_row": null,
            "grid_template_areas": null,
            "grid_template_columns": null,
            "grid_template_rows": null,
            "height": null,
            "justify_content": null,
            "justify_items": null,
            "left": null,
            "margin": null,
            "max_height": null,
            "max_width": null,
            "min_height": null,
            "min_width": null,
            "object_fit": null,
            "object_position": null,
            "order": null,
            "overflow": null,
            "overflow_x": null,
            "overflow_y": null,
            "padding": null,
            "right": null,
            "top": null,
            "visibility": null,
            "width": null
          }
        },
        "1049b631483d4176a2f21687921ada8f": {
          "model_module": "@jupyter-widgets/controls",
          "model_name": "ProgressStyleModel",
          "model_module_version": "1.5.0",
          "state": {
            "_model_module": "@jupyter-widgets/controls",
            "_model_module_version": "1.5.0",
            "_model_name": "ProgressStyleModel",
            "_view_count": null,
            "_view_module": "@jupyter-widgets/base",
            "_view_module_version": "1.2.0",
            "_view_name": "StyleView",
            "bar_color": null,
            "description_width": ""
          }
        },
        "2111fc291b0d4db3ab0dc3b75ac4e207": {
          "model_module": "@jupyter-widgets/base",
          "model_name": "LayoutModel",
          "model_module_version": "1.2.0",
          "state": {
            "_model_module": "@jupyter-widgets/base",
            "_model_module_version": "1.2.0",
            "_model_name": "LayoutModel",
            "_view_count": null,
            "_view_module": "@jupyter-widgets/base",
            "_view_module_version": "1.2.0",
            "_view_name": "LayoutView",
            "align_content": null,
            "align_items": null,
            "align_self": null,
            "border": null,
            "bottom": null,
            "display": null,
            "flex": null,
            "flex_flow": null,
            "grid_area": null,
            "grid_auto_columns": null,
            "grid_auto_flow": null,
            "grid_auto_rows": null,
            "grid_column": null,
            "grid_gap": null,
            "grid_row": null,
            "grid_template_areas": null,
            "grid_template_columns": null,
            "grid_template_rows": null,
            "height": null,
            "justify_content": null,
            "justify_items": null,
            "left": null,
            "margin": null,
            "max_height": null,
            "max_width": null,
            "min_height": null,
            "min_width": null,
            "object_fit": null,
            "object_position": null,
            "order": null,
            "overflow": null,
            "overflow_x": null,
            "overflow_y": null,
            "padding": null,
            "right": null,
            "top": null,
            "visibility": null,
            "width": null
          }
        },
        "611b0ed3270a41b5ad96d8b395ac2479": {
          "model_module": "@jupyter-widgets/controls",
          "model_name": "DescriptionStyleModel",
          "model_module_version": "1.5.0",
          "state": {
            "_model_module": "@jupyter-widgets/controls",
            "_model_module_version": "1.5.0",
            "_model_name": "DescriptionStyleModel",
            "_view_count": null,
            "_view_module": "@jupyter-widgets/base",
            "_view_module_version": "1.2.0",
            "_view_name": "StyleView",
            "description_width": ""
          }
        },
        "5606f02a51064e3f92533f32568fbee6": {
          "model_module": "@jupyter-widgets/controls",
          "model_name": "HBoxModel",
          "model_module_version": "1.5.0",
          "state": {
            "_dom_classes": [],
            "_model_module": "@jupyter-widgets/controls",
            "_model_module_version": "1.5.0",
            "_model_name": "HBoxModel",
            "_view_count": null,
            "_view_module": "@jupyter-widgets/controls",
            "_view_module_version": "1.5.0",
            "_view_name": "HBoxView",
            "box_style": "",
            "children": [
              "IPY_MODEL_1586bf46080e4d1b845ce07c9e52441a",
              "IPY_MODEL_d041a709a34545e1bbd93594ec246096",
              "IPY_MODEL_9c8eaa064602414189ce866650360be4"
            ],
            "layout": "IPY_MODEL_64b6e805cdf2470d8fcb3ebc8cc46638"
          }
        },
        "1586bf46080e4d1b845ce07c9e52441a": {
          "model_module": "@jupyter-widgets/controls",
          "model_name": "HTMLModel",
          "model_module_version": "1.5.0",
          "state": {
            "_dom_classes": [],
            "_model_module": "@jupyter-widgets/controls",
            "_model_module_version": "1.5.0",
            "_model_name": "HTMLModel",
            "_view_count": null,
            "_view_module": "@jupyter-widgets/controls",
            "_view_module_version": "1.5.0",
            "_view_name": "HTMLView",
            "description": "",
            "description_tooltip": null,
            "layout": "IPY_MODEL_a31bc8aa23524b0598bc524d164e0cbc",
            "placeholder": "​",
            "style": "IPY_MODEL_e84c2792ea094a59905d27bc772c833b",
            "value": "100%"
          }
        },
        "d041a709a34545e1bbd93594ec246096": {
          "model_module": "@jupyter-widgets/controls",
          "model_name": "FloatProgressModel",
          "model_module_version": "1.5.0",
          "state": {
            "_dom_classes": [],
            "_model_module": "@jupyter-widgets/controls",
            "_model_module_version": "1.5.0",
            "_model_name": "FloatProgressModel",
            "_view_count": null,
            "_view_module": "@jupyter-widgets/controls",
            "_view_module_version": "1.5.0",
            "_view_name": "ProgressView",
            "bar_style": "success",
            "description": "",
            "description_tooltip": null,
            "layout": "IPY_MODEL_1108322e071b47efb416fe419f4e1792",
            "max": 2,
            "min": 0,
            "orientation": "horizontal",
            "style": "IPY_MODEL_00714f48ec79499898d46804fae71b05",
            "value": 2
          }
        },
        "9c8eaa064602414189ce866650360be4": {
          "model_module": "@jupyter-widgets/controls",
          "model_name": "HTMLModel",
          "model_module_version": "1.5.0",
          "state": {
            "_dom_classes": [],
            "_model_module": "@jupyter-widgets/controls",
            "_model_module_version": "1.5.0",
            "_model_name": "HTMLModel",
            "_view_count": null,
            "_view_module": "@jupyter-widgets/controls",
            "_view_module_version": "1.5.0",
            "_view_name": "HTMLView",
            "description": "",
            "description_tooltip": null,
            "layout": "IPY_MODEL_98d13f418c5949628f966f3dc4b2350c",
            "placeholder": "​",
            "style": "IPY_MODEL_b26a97a97e2644d6978545e1b86ce08a",
            "value": " 2/2 [00:44&lt;00:00, 26.20s/it]"
          }
        },
        "64b6e805cdf2470d8fcb3ebc8cc46638": {
          "model_module": "@jupyter-widgets/base",
          "model_name": "LayoutModel",
          "model_module_version": "1.2.0",
          "state": {
            "_model_module": "@jupyter-widgets/base",
            "_model_module_version": "1.2.0",
            "_model_name": "LayoutModel",
            "_view_count": null,
            "_view_module": "@jupyter-widgets/base",
            "_view_module_version": "1.2.0",
            "_view_name": "LayoutView",
            "align_content": null,
            "align_items": null,
            "align_self": null,
            "border": null,
            "bottom": null,
            "display": null,
            "flex": null,
            "flex_flow": null,
            "grid_area": null,
            "grid_auto_columns": null,
            "grid_auto_flow": null,
            "grid_auto_rows": null,
            "grid_column": null,
            "grid_gap": null,
            "grid_row": null,
            "grid_template_areas": null,
            "grid_template_columns": null,
            "grid_template_rows": null,
            "height": null,
            "justify_content": null,
            "justify_items": null,
            "left": null,
            "margin": null,
            "max_height": null,
            "max_width": null,
            "min_height": null,
            "min_width": null,
            "object_fit": null,
            "object_position": null,
            "order": null,
            "overflow": null,
            "overflow_x": null,
            "overflow_y": null,
            "padding": null,
            "right": null,
            "top": null,
            "visibility": null,
            "width": null
          }
        },
        "a31bc8aa23524b0598bc524d164e0cbc": {
          "model_module": "@jupyter-widgets/base",
          "model_name": "LayoutModel",
          "model_module_version": "1.2.0",
          "state": {
            "_model_module": "@jupyter-widgets/base",
            "_model_module_version": "1.2.0",
            "_model_name": "LayoutModel",
            "_view_count": null,
            "_view_module": "@jupyter-widgets/base",
            "_view_module_version": "1.2.0",
            "_view_name": "LayoutView",
            "align_content": null,
            "align_items": null,
            "align_self": null,
            "border": null,
            "bottom": null,
            "display": null,
            "flex": null,
            "flex_flow": null,
            "grid_area": null,
            "grid_auto_columns": null,
            "grid_auto_flow": null,
            "grid_auto_rows": null,
            "grid_column": null,
            "grid_gap": null,
            "grid_row": null,
            "grid_template_areas": null,
            "grid_template_columns": null,
            "grid_template_rows": null,
            "height": null,
            "justify_content": null,
            "justify_items": null,
            "left": null,
            "margin": null,
            "max_height": null,
            "max_width": null,
            "min_height": null,
            "min_width": null,
            "object_fit": null,
            "object_position": null,
            "order": null,
            "overflow": null,
            "overflow_x": null,
            "overflow_y": null,
            "padding": null,
            "right": null,
            "top": null,
            "visibility": null,
            "width": null
          }
        },
        "e84c2792ea094a59905d27bc772c833b": {
          "model_module": "@jupyter-widgets/controls",
          "model_name": "DescriptionStyleModel",
          "model_module_version": "1.5.0",
          "state": {
            "_model_module": "@jupyter-widgets/controls",
            "_model_module_version": "1.5.0",
            "_model_name": "DescriptionStyleModel",
            "_view_count": null,
            "_view_module": "@jupyter-widgets/base",
            "_view_module_version": "1.2.0",
            "_view_name": "StyleView",
            "description_width": ""
          }
        },
        "1108322e071b47efb416fe419f4e1792": {
          "model_module": "@jupyter-widgets/base",
          "model_name": "LayoutModel",
          "model_module_version": "1.2.0",
          "state": {
            "_model_module": "@jupyter-widgets/base",
            "_model_module_version": "1.2.0",
            "_model_name": "LayoutModel",
            "_view_count": null,
            "_view_module": "@jupyter-widgets/base",
            "_view_module_version": "1.2.0",
            "_view_name": "LayoutView",
            "align_content": null,
            "align_items": null,
            "align_self": null,
            "border": null,
            "bottom": null,
            "display": null,
            "flex": null,
            "flex_flow": null,
            "grid_area": null,
            "grid_auto_columns": null,
            "grid_auto_flow": null,
            "grid_auto_rows": null,
            "grid_column": null,
            "grid_gap": null,
            "grid_row": null,
            "grid_template_areas": null,
            "grid_template_columns": null,
            "grid_template_rows": null,
            "height": null,
            "justify_content": null,
            "justify_items": null,
            "left": null,
            "margin": null,
            "max_height": null,
            "max_width": null,
            "min_height": null,
            "min_width": null,
            "object_fit": null,
            "object_position": null,
            "order": null,
            "overflow": null,
            "overflow_x": null,
            "overflow_y": null,
            "padding": null,
            "right": null,
            "top": null,
            "visibility": null,
            "width": null
          }
        },
        "00714f48ec79499898d46804fae71b05": {
          "model_module": "@jupyter-widgets/controls",
          "model_name": "ProgressStyleModel",
          "model_module_version": "1.5.0",
          "state": {
            "_model_module": "@jupyter-widgets/controls",
            "_model_module_version": "1.5.0",
            "_model_name": "ProgressStyleModel",
            "_view_count": null,
            "_view_module": "@jupyter-widgets/base",
            "_view_module_version": "1.2.0",
            "_view_name": "StyleView",
            "bar_color": null,
            "description_width": ""
          }
        },
        "98d13f418c5949628f966f3dc4b2350c": {
          "model_module": "@jupyter-widgets/base",
          "model_name": "LayoutModel",
          "model_module_version": "1.2.0",
          "state": {
            "_model_module": "@jupyter-widgets/base",
            "_model_module_version": "1.2.0",
            "_model_name": "LayoutModel",
            "_view_count": null,
            "_view_module": "@jupyter-widgets/base",
            "_view_module_version": "1.2.0",
            "_view_name": "LayoutView",
            "align_content": null,
            "align_items": null,
            "align_self": null,
            "border": null,
            "bottom": null,
            "display": null,
            "flex": null,
            "flex_flow": null,
            "grid_area": null,
            "grid_auto_columns": null,
            "grid_auto_flow": null,
            "grid_auto_rows": null,
            "grid_column": null,
            "grid_gap": null,
            "grid_row": null,
            "grid_template_areas": null,
            "grid_template_columns": null,
            "grid_template_rows": null,
            "height": null,
            "justify_content": null,
            "justify_items": null,
            "left": null,
            "margin": null,
            "max_height": null,
            "max_width": null,
            "min_height": null,
            "min_width": null,
            "object_fit": null,
            "object_position": null,
            "order": null,
            "overflow": null,
            "overflow_x": null,
            "overflow_y": null,
            "padding": null,
            "right": null,
            "top": null,
            "visibility": null,
            "width": null
          }
        },
        "b26a97a97e2644d6978545e1b86ce08a": {
          "model_module": "@jupyter-widgets/controls",
          "model_name": "DescriptionStyleModel",
          "model_module_version": "1.5.0",
          "state": {
            "_model_module": "@jupyter-widgets/controls",
            "_model_module_version": "1.5.0",
            "_model_name": "DescriptionStyleModel",
            "_view_count": null,
            "_view_module": "@jupyter-widgets/base",
            "_view_module_version": "1.2.0",
            "_view_name": "StyleView",
            "description_width": ""
          }
        }
      }
    }
  },
  "cells": [
    {
      "cell_type": "markdown",
      "metadata": {
        "id": "view-in-github",
        "colab_type": "text"
      },
      "source": [
        "<a href=\"https://colab.research.google.com/github/lydiakatsis/zsl-acoustic-monitoring-scripts/blob/main/CityNet-CNN/Run_CityNet_Colab.ipynb\" target=\"_parent\"><img src=\"https://colab.research.google.com/assets/colab-badge.svg\" alt=\"Open In Colab\"/></a>"
      ]
    },
    {
      "cell_type": "markdown",
      "source": [
        "# Script to run CityNet algorithm on Colab\n",
        "\n",
        "Will analyse files stored either in Google Drive or in GCP bucket\n",
        "\n",
        "Original scripts developed by Fairbrass et al. and found [here](https://github.com/mdfirman/CityNet) \n",
        "\n",
        "### Outline\n",
        "\n",
        "Uses 2 algorithms, one that classifies level of anthropogenic sound, and another that classifies levels of biotic sounds. Calculate mean level for each sound clip and stores in a csv.\n",
        "\n",
        "\n",
        "**Warning - this script is slow to run - for each 10 minute file, it will take 20 seconds**\n",
        "\n",
        "## Instructions\n",
        "* Set run-time to GPU (Runtime -> Change runtime type)\n",
        "* The only part of this script you will need to change is \n",
        "    1. Mounting either the Bucket or GoogleDrive and change the file directories appropriately, and \n",
        "    2. Setting the directory of audio files and results folders.\n",
        "\n",
        "* If scripts becomes unresponsive before it has completed, then restart the kernel. The script is unresponsive if the boxes next to the current command changes from [*] / [number] to [ ]\n",
        "\n",
        "\n",
        "## Sources of potential error\n",
        "* If you have multiple kernels running in this instance, then GPU allocation may be disrupted and it will throw errors - make sure there is only one notebook open when running this script. You can view kernels on the left, with the Stop Icon that is below the folder browser. Shut down all the kernels except for this script.\n",
        "\n",
        "* The notebook may become unresponsive after running for a long time - you will have to restart notebook and code again. It will resume classifying from where it left off.\n",
        "\n",
        "* Some files will not be analysed as there will be several 0MB files recorded by the AudioMoth, so don't be concerned if some files can't be analysed.\n",
        "\n",
        "* You will only be able to mount the GCP Bucket if you have been granted permission to access it by the project owner."
      ],
      "metadata": {
        "id": "1DIkXv3jS--S"
      }
    },
    {
      "cell_type": "code",
      "source": [
        "# Make sure all necessary libraries are installed\n",
        "!pip show tensorflow && echo \"tensorflow installed\" || pip install tensorflow \n",
        "!pip show librosa && echo \"librosa installed\" || pip install librosa\n",
        "!pip show tf_slim && echo \"tf_slim installed\" || pip install tf_slim\n",
        "!pip show PyYAML && echo \"PyYAML installed\" || pip install -U PyYAML\n",
        "\n",
        "import os\n",
        "os.environ['TF_CPP_MIN_LOG_LEVEL'] = '3' "
      ],
      "metadata": {
        "id": "L-r7z7dqUg7e"
      },
      "execution_count": null,
      "outputs": []
    },
    {
      "cell_type": "code",
      "source": [
        "![ -d \"/*/*/CityNet\" ] && echo \"Scripts are downloaded\" || git clone https://github.com/mdfirman/CityNet.git\n",
        "!wget -O CityNet/multi_predict_.py \"https://www.dropbox.com/s/wgg8zi118uqgy5e/multi_predict_.py?dl=0\"\n"
      ],
      "metadata": {
        "id": "5ir1CwV0XIzp"
      },
      "execution_count": null,
      "outputs": []
    },
    {
      "cell_type": "code",
      "source": [
        "cd /content/CityNet"
      ],
      "metadata": {
        "colab": {
          "base_uri": "https://localhost:8080/"
        },
        "id": "oo4JT9TAXkWT",
        "outputId": "07075b7e-2864-4866-910b-3fe84e94f024"
      },
      "execution_count": 4,
      "outputs": [
        {
          "output_type": "stream",
          "name": "stdout",
          "text": [
            "/content/CityNet\n"
          ]
        }
      ]
    },
    {
      "cell_type": "code",
      "source": [
        "# Make sure model is downloaded\n",
        "![ -d \"/*/*/CityNet/__MACOSX\" ] && echo \"Models are downloaded\" || python demo.py"
      ],
      "metadata": {
        "id": "bgVTzTm0UkMD"
      },
      "execution_count": null,
      "outputs": []
    },
    {
      "cell_type": "markdown",
      "source": [
        "# Depending on where data for processing is stored, either mount GCP bucket, or mount google drive:"
      ],
      "metadata": {
        "id": "gU21OjyeVxNf"
      }
    },
    {
      "cell_type": "markdown",
      "source": [
        "## 1. Running on Google Cloud Bucket data\n",
        "\n",
        "Mount Google Cloud Bucket so can access data like a local directory."
      ],
      "metadata": {
        "id": "vTcGhq3gTqT2"
      }
    },
    {
      "cell_type": "code",
      "source": [
        "# Make sure GCSFUSE in installed so can mount bucket\n",
        "!echo \"deb http://packages.cloud.google.com/apt gcsfuse-bionic main\" > /etc/apt/sources.list.d/gcsfuse.list\n",
        "!curl https://packages.cloud.google.com/apt/doc/apt-key.gpg | apt-key add -\n",
        "!apt -qq update\n",
        "!apt -qq install gcsfuse"
      ],
      "metadata": {
        "id": "3W5fASn4Tp-H"
      },
      "execution_count": null,
      "outputs": []
    },
    {
      "cell_type": "code",
      "source": [
        "# Authenication and PROJECT_ID allocation - change PROJECT_ID if necessary\n",
        "from google.colab import auth\n",
        "auth.authenticate_user()\n",
        "PROJECT_ID = \"zsl-acoustic-pipeline\""
      ],
      "metadata": {
        "id": "zGnm8ThyT5VD"
      },
      "execution_count": 7,
      "outputs": []
    },
    {
      "cell_type": "code",
      "source": [
        "# Mount bucket - change 'acoustic-data-raw' to bucket name with raw data, and 'acoustic-processing-outputs' to bucket name for output storage.\n",
        "!mountpoint -q /content/gcs_raw && echo \"mounted\" || mkdir -p /content/gcs_raw; gcsfuse --implicit-dirs --rename-dir-limit=100 --disable-http2 --max-conns-per-host=100 \"acoustic-data-raw\" \"/content/gcs_raw\"\n",
        "!mountpoint -q /content/gcs_outputs && echo \"mounted\" || mkdir -p /content/gcs_outputs; gcsfuse --implicit-dirs --rename-dir-limit=100 --disable-http2 --max-conns-per-host=100 \"acoustic-processing-outputs\" \"/content/gcs_outputs\"\n"
      ],
      "metadata": {
        "id": "RgtaPohnT7SZ"
      },
      "execution_count": null,
      "outputs": []
    },
    {
      "cell_type": "markdown",
      "source": [
        "**OR**"
      ],
      "metadata": {
        "id": "cS86GCj0DztF"
      }
    },
    {
      "cell_type": "markdown",
      "source": [
        "## 2. Running on Google Drive data\n",
        "\n",
        "Mount Google Drive so can access like local directory"
      ],
      "metadata": {
        "id": "PrO9sjk0Tzw2"
      }
    },
    {
      "cell_type": "code",
      "source": [
        "from google.colab import drive\n",
        "drive.mount('/content/drive')"
      ],
      "metadata": {
        "id": "EgkNsG_ETosN"
      },
      "execution_count": null,
      "outputs": []
    },
    {
      "cell_type": "markdown",
      "source": [
        "# Set file paths"
      ],
      "metadata": {
        "id": "FQj388CNUn1R"
      }
    },
    {
      "cell_type": "markdown",
      "source": [
        "# &darr; &darr; &darr; &darr; &darr; &darr; &darr; &darr; &darr; &darr; &darr; &darr; #"
      ],
      "metadata": {
        "id": "946WLTVNW2ek"
      }
    },
    {
      "cell_type": "code",
      "source": [
        "## Change these folders to line up with where your raw data and outputs are stored\n",
        "folder = \"/content/gcs_raw/trial_data_2021/city-config/\"\n",
        "results = \"/content/gcs_outputs/trial_data_2021/citynet/\" "
      ],
      "metadata": {
        "id": "pODTuTnzUrhv"
      },
      "execution_count": 9,
      "outputs": []
    },
    {
      "cell_type": "markdown",
      "source": [
        "# &uarr; &uarr; &uarr; &uarr; &uarr; &uarr; &uarr; &uarr; &uarr; &uarr; &uarr; &uarr; #"
      ],
      "metadata": {
        "id": "oR7wsZrUWytk"
      }
    },
    {
      "cell_type": "markdown",
      "source": [
        "# Run classifier"
      ],
      "metadata": {
        "id": "CVIMdo_zX8Ck"
      }
    },
    {
      "cell_type": "code",
      "source": [
        "%run -i multi_predict_.py \"$folder\" \"$results\""
      ],
      "metadata": {
        "colab": {
          "base_uri": "https://localhost:8080/",
          "height": 257,
          "referenced_widgets": [
            "76e23422d7c149df9b3c3572d7067a9b",
            "c3469007646c4263852cce4fc188f0f8",
            "7044f5191f7845dfaee9334a74dd991d",
            "86315fb4dd024412ab8620619db4660e",
            "e41620404f464a40b0d42dfa6db3f841",
            "b6cc3764cead4d3c9f589834fd3cfeb0",
            "691c093800ae4777b15d81ac97fca550",
            "dc7a2e2848ce446aa48b0f9a1311561b",
            "1049b631483d4176a2f21687921ada8f",
            "2111fc291b0d4db3ab0dc3b75ac4e207",
            "611b0ed3270a41b5ad96d8b395ac2479",
            "5606f02a51064e3f92533f32568fbee6",
            "1586bf46080e4d1b845ce07c9e52441a",
            "d041a709a34545e1bbd93594ec246096",
            "9c8eaa064602414189ce866650360be4",
            "64b6e805cdf2470d8fcb3ebc8cc46638",
            "a31bc8aa23524b0598bc524d164e0cbc",
            "e84c2792ea094a59905d27bc772c833b",
            "1108322e071b47efb416fe419f4e1792",
            "00714f48ec79499898d46804fae71b05",
            "98d13f418c5949628f966f3dc4b2350c",
            "b26a97a97e2644d6978545e1b86ce08a"
          ]
        },
        "id": "ZFzpQHoxUweh",
        "outputId": "b884cf29-0301-4ec7-9abd-c15bee8cca50"
      },
      "execution_count": 10,
      "outputs": [
        {
          "output_type": "stream",
          "name": "stdout",
          "text": [
            "->  Making predictions for biotic and anthropogenic separately\n"
          ]
        },
        {
          "output_type": "stream",
          "name": "stderr",
          "text": [
            "/usr/local/lib/python3.8/dist-packages/tensorflow/python/keras/engine/base_layer_v1.py:1694: UserWarning: `layer.apply` is deprecated and will be removed in a future version. Please use `layer.__call__` method instead.\n",
            "  warnings.warn('`layer.apply` is deprecated and '\n",
            "/usr/local/lib/python3.8/dist-packages/tensorflow/python/keras/legacy_tf_layers/core.py:332: UserWarning: `tf.layers.flatten` is deprecated and will be removed in a future version. Please use `tf.keras.layers.Flatten` instead.\n",
            "  warnings.warn('`tf.layers.flatten` is deprecated and '\n"
          ]
        },
        {
          "output_type": "stream",
          "name": "stdout",
          "text": [
            "Loading from tf_models/biotic/weights_99.pkl-1\n"
          ]
        },
        {
          "output_type": "display_data",
          "data": {
            "text/plain": [
              "  0%|          | 0/2 [00:00<?, ?it/s]"
            ],
            "application/vnd.jupyter.widget-view+json": {
              "version_major": 2,
              "version_minor": 0,
              "model_id": "76e23422d7c149df9b3c3572d7067a9b"
            }
          },
          "metadata": {}
        },
        {
          "output_type": "stream",
          "name": "stdout",
          "text": [
            "Loading from tf_models/anthrop/weights_99.pkl-1\n"
          ]
        },
        {
          "output_type": "display_data",
          "data": {
            "text/plain": [
              "  0%|          | 0/2 [00:00<?, ?it/s]"
            ],
            "application/vnd.jupyter.widget-view+json": {
              "version_major": 2,
              "version_minor": 0,
              "model_id": "5606f02a51064e3f92533f32568fbee6"
            }
          },
          "metadata": {}
        },
        {
          "output_type": "stream",
          "name": "stdout",
          "text": [
            "Took 3.674s to classify\n",
            "-> ...Done\n"
          ]
        }
      ]
    },
    {
      "cell_type": "markdown",
      "source": [
        "# Concatenate results\n",
        "\n",
        "Join together all the separate csvs created for each file to make one final one. Will be stored in the results directory and titled todays_date + concatenated_results_city_net.csv"
      ],
      "metadata": {
        "id": "iEMRCOqrUX_i"
      }
    },
    {
      "cell_type": "code",
      "source": [
        "import glob as glob\n",
        "import pandas as pd\n",
        "import os\n",
        "import datetime\n",
        "from datetime import date, datetime\n"
      ],
      "metadata": {
        "id": "84_b99Y6U4Eb"
      },
      "execution_count": 18,
      "outputs": []
    },
    {
      "cell_type": "code",
      "source": [
        "results_list_anth = glob.glob(results +  '*/*/*anthrop.csv')\n",
        "results_list_bio = glob.glob(results +  '*/*/*biotic.csv')\n",
        "\n",
        "d = date.today()\n",
        "d = d.strftime('%y%m%d')"
      ],
      "metadata": {
        "id": "e3ZDebaZU6Ao"
      },
      "execution_count": 19,
      "outputs": []
    },
    {
      "cell_type": "code",
      "source": [
        "li = []\n",
        "\n",
        "for filename in results_list_anth:\n",
        "    df = pd.read_csv(filename)\n",
        "    df = df.rename(columns={\"Average sound\": \"Average anthropogenic sound\"})\n",
        "    li.append(df)\n",
        "\n",
        "frame_anth = pd.concat(li, axis=0, ignore_index=True)"
      ],
      "metadata": {
        "id": "VXu7lxCbU7v_"
      },
      "execution_count": 20,
      "outputs": []
    },
    {
      "cell_type": "code",
      "source": [
        "li = []\n",
        "\n",
        "for filename in results_list_bio:\n",
        "    df = pd.read_csv(filename)\n",
        "    df = df.rename(columns={\"Average sound\": \"Average biotic sound\"})\n",
        "    li.append(df)\n",
        "\n",
        "frame_bio = pd.concat(li, axis=0, ignore_index=True)\n"
      ],
      "metadata": {
        "id": "15nbEH78U9Ln"
      },
      "execution_count": 21,
      "outputs": []
    },
    {
      "cell_type": "code",
      "source": [
        "frame_merged =  pd.merge(frame_anth, frame_bio, how='inner', on = 'Filename')\n",
        "frame_merged['SD'] = [os.path.basename(os.path.dirname(f)) for f in frame_merged['Filename']]\n",
        "frame_merged['basename'] = [os.path.basename(f).split('.')[0] for f in frame_merged['Filename']]\n",
        "frame_merged['files_timestamp'] = [datetime.strptime(f, '%Y%m%d_%H%M%S') for f in frame_merged['basename']]\n",
        "frame_merged['hour'] = [f.hour for f in frame_merged['files_timestamp']]\n",
        "\n",
        "\n",
        "frame_merged.columns = frame_merged.columns.str.replace(' ','_')\n",
        "frame_merged.to_csv(results + d +  '_concatenated_results_city_net.csv')\n"
      ],
      "metadata": {
        "id": "Bih--C7_U-eo"
      },
      "execution_count": 22,
      "outputs": []
    }
  ]
}