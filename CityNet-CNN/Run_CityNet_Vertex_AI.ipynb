{
  "cells": [
    {
      "cell_type": "markdown",
      "id": "04610c93-844c-4665-a54c-c0d5db702fdd",
      "metadata": {
        "id": "04610c93-844c-4665-a54c-c0d5db702fdd"
      },
      "source": [
        "# City Net #\n",
        "\n",
        "*Warning - this script is slow to run - for each 10 minute file, it will take 20 seconds*\n",
        "\n",
        "## Instructions ##\n",
        " \n",
        "1. The only part of this script you will need to change is the directory of audio files and results folders.\n",
        "    * Change these file paths to the paths of your input folder and output folder within the Bucket.\n",
        "2. Once you have set the file directories, select Run -> Run all cells from the menu above.\n",
        "3. The final argument should shut down the instance when this has finished, however if there is an error at some point or the script becomes unresponsive, then this argument will not be executed, so you should check in on progress of script periodically.\n",
        "4. If scripts becomes unresponsive before it has completed, then restart the kernel. The script is unresponsive if the boxes next to the current command changes from [*] / [number] to [ ] \n",
        "\n",
        "\n",
        "**Source of potential errors:** \n",
        "* If you have multiple kernels running in this instance, then GPU allocation may be disrupted and it will throw errors - make sure there is only one notebook open when running this script. You can view kernels on the left, with the Stop Icon that is below the folder browser. Shut down all the kernels except for this script.\n",
        "\n",
        "* The notebook may become unresponsive after running for a long time - you will have to restart notebook and code again. It will resume classifying from where it left off.\n",
        "\n",
        "* Some files will not be analysed as there will be several 0MB files recorded by the AudioMoth, so don't be concerned if some files can't be analysed.\n",
        "\n"
      ]
    },
    {
      "cell_type": "markdown",
      "id": "24604be5-efee-4a52-ba75-27d3c81ea561",
      "metadata": {
        "id": "24604be5-efee-4a52-ba75-27d3c81ea561"
      },
      "source": [
        "## Mount buckets ##"
      ]
    },
    {
      "cell_type": "code",
      "execution_count": null,
      "id": "a99cf5c7-3f35-471c-9a7f-b0dfc9bfb18e",
      "metadata": {
        "id": "a99cf5c7-3f35-471c-9a7f-b0dfc9bfb18e",
        "outputId": "19d0ad00-4a22-4c64-f48b-e44cd7d7dba7"
      },
      "outputs": [
        {
          "name": "stdout",
          "output_type": "stream",
          "text": [
            "2022/12/02 12:01:33.821242 Start gcsfuse/0.41.8 (Go version go1.18.4) for app \"\" using mount point: /home/jupyter/gcs_raw\n",
            "2022/12/02 12:01:33.839394 Opening GCS connection...\n",
            "2022/12/02 12:01:33.980533 Mounting file system \"acoustic-data-raw\"...\n",
            "2022/12/02 12:01:33.999700 File system has been successfully mounted.\n",
            "2022/12/02 12:01:34.133526 Start gcsfuse/0.41.8 (Go version go1.18.4) for app \"\" using mount point: /home/jupyter/gcs_outputs\n",
            "2022/12/02 12:01:34.147317 Opening GCS connection...\n",
            "2022/12/02 12:01:34.250189 Mounting file system \"acoustic-processing-outputs\"...\n",
            "2022/12/02 12:01:34.270755 File system has been successfully mounted.\n"
          ]
        }
      ],
      "source": [
        "# Mount raw data bucket - this bucket contains all the wav files \n",
        "!mountpoint -q /home/jupyter/gcs_raw && echo \"mounted\" || mkdir -p gcs_raw; gcsfuse --implicit-dirs --rename-dir-limit=100 --disable-http2 --max-conns-per-host=100 \"acoustic-data-raw\" \"/home/jupyter/gcs_raw\"\n",
        "# Mount outputs bucket - results csvs will be written to this bucket\n",
        "!mountpoint -q /home/jupyter/gcs_outputs && echo \"mounted\" || mkdir -p gcs_outputs; gcsfuse --implicit-dirs --rename-dir-limit=100 --disable-http2 --max-conns-per-host=100 \"acoustic-processing-outputs\" \"/home/jupyter/gcs_outputs\""
      ]
    },
    {
      "cell_type": "markdown",
      "id": "6750c31d-e55d-4abf-90d9-34a7766ad089",
      "metadata": {
        "tags": [],
        "id": "6750c31d-e55d-4abf-90d9-34a7766ad089"
      },
      "source": [
        "# Set folders for input (i.e. sound folders to analyse) and output #\n",
        "\n",
        "These folders will be mounted on the left, so will start with '/home/jupyter/' but they are accessing files from the Google Cloud Bucket that you mounted. Make sure input_folder is the raw audio folder, and the results_folder is within gcs_outputs.\n",
        "\n",
        "**All you need to change from below is 'trial_data_2021' on both lines to the new folder.**\n",
        "\n",
        "# &darr; &darr; &darr; &darr; &darr; &darr; &darr; &darr; &darr; &darr; &darr; &darr; #"
      ]
    },
    {
      "cell_type": "code",
      "execution_count": null,
      "id": "159f1c7e-d7aa-40c7-ba67-4b354aa15a81",
      "metadata": {
        "id": "159f1c7e-d7aa-40c7-ba67-4b354aa15a81"
      },
      "outputs": [],
      "source": [
        "folder = \"/home/jupyter/gcs_raw/nr-acoustic-data/city-config/\"\n",
        "results = \"/home/jupyter/gcs_outputs/nr-acoustic-data/citynet/\""
      ]
    },
    {
      "cell_type": "markdown",
      "id": "24064718-4660-4f31-acf3-02c53aced197",
      "metadata": {
        "id": "24064718-4660-4f31-acf3-02c53aced197"
      },
      "source": [
        "# &uarr; &uarr; &uarr; &uarr; &uarr; &uarr; &uarr; &uarr; &uarr; &uarr; &uarr; &uarr; #"
      ]
    },
    {
      "cell_type": "markdown",
      "id": "f16993d1-5b64-467b-a41b-43bbdb73255a",
      "metadata": {
        "id": "f16993d1-5b64-467b-a41b-43bbdb73255a"
      },
      "source": [
        "### Make sure libraries and scripts are loaded ###"
      ]
    },
    {
      "cell_type": "code",
      "execution_count": null,
      "id": "68701c3e-0199-4ccd-acfb-6d3da8e6cb88",
      "metadata": {
        "tags": [],
        "id": "68701c3e-0199-4ccd-acfb-6d3da8e6cb88",
        "outputId": "8e2a4dab-5a76-4fd4-9c1a-2667b5ab2278"
      },
      "outputs": [
        {
          "name": "stdout",
          "output_type": "stream",
          "text": [
            "Scripts are downloaded\n"
          ]
        }
      ],
      "source": [
        "![ -d \"/home/jupyter/CityNet\" ] && echo \"Scripts are downloaded\" || git clone https://github.com/mdfirman/CityNet.git\n",
        "!wget -O CityNet/multi_predict_.py \"https://www.dropbox.com/s/wgg8zi118uqgy5e/multi_predict_.py?dl=0\""
      ]
    },
    {
      "cell_type": "code",
      "execution_count": null,
      "id": "d0c0cc47-a094-4013-be6f-49ab87ec85a8",
      "metadata": {
        "id": "d0c0cc47-a094-4013-be6f-49ab87ec85a8"
      },
      "outputs": [],
      "source": [
        "import os\n",
        "os.environ['TF_CPP_MIN_LOG_LEVEL'] = '3' "
      ]
    },
    {
      "cell_type": "code",
      "execution_count": null,
      "id": "f1b54c10-d87e-4d08-ac2e-f9646aba08c5",
      "metadata": {
        "tags": [],
        "id": "f1b54c10-d87e-4d08-ac2e-f9646aba08c5"
      },
      "outputs": [],
      "source": [
        "!pip show tensorflow && echo \"tensorflow installed\" || pip install tensorflow\n",
        "!pip show librosa && echo \"librosa installed\" || pip install librosa\n",
        "!pip show tf_slim && echo \"tf_slim installed\" || pip install tf_slim\n",
        "!pip show PyYAML && echo \"PyYAML installed\" || pip install -U PyYAML"
      ]
    },
    {
      "cell_type": "code",
      "execution_count": null,
      "id": "3610320f-30bc-424b-9adf-2fc617814367",
      "metadata": {
        "tags": [],
        "id": "3610320f-30bc-424b-9adf-2fc617814367"
      },
      "outputs": [],
      "source": [
        "cd /home/jupyter/CityNet\n",
        "![ -d \"/home/jupyter/CityNet/__MACOSX\" ] && echo \"Models are downloaded\" || python demo.py"
      ]
    },
    {
      "cell_type": "markdown",
      "id": "643276be-07ac-4fc8-ad16-430bd2bdd3c3",
      "metadata": {
        "id": "643276be-07ac-4fc8-ad16-430bd2bdd3c3"
      },
      "source": [
        "## Run classifier ##"
      ]
    },
    {
      "cell_type": "code",
      "execution_count": null,
      "id": "79c8b9ce-9aa5-4ec0-b4c8-326c6a43bdab",
      "metadata": {
        "tags": [],
        "id": "79c8b9ce-9aa5-4ec0-b4c8-326c6a43bdab"
      },
      "outputs": [],
      "source": [
        "%run -i multi_predict_.py \"$folder\" \"$results\""
      ]
    },
    {
      "cell_type": "markdown",
      "id": "9217e0ef-aabc-4ac2-afc5-626c98d93ff1",
      "metadata": {
        "id": "9217e0ef-aabc-4ac2-afc5-626c98d93ff1"
      },
      "source": [
        "## Concatenate results ##\n",
        "\n",
        "This step is quite slow, as there will be many csvs to concatenate."
      ]
    },
    {
      "cell_type": "code",
      "execution_count": null,
      "id": "89c275c1-02d9-4f63-9c0c-3ca75b9c1bfc",
      "metadata": {
        "id": "89c275c1-02d9-4f63-9c0c-3ca75b9c1bfc"
      },
      "outputs": [],
      "source": [
        "import glob as glob\n",
        "import pandas as pd\n",
        "import os\n",
        "import datetime\n",
        "from datetime import datetime, date"
      ]
    },
    {
      "cell_type": "code",
      "execution_count": null,
      "id": "af26ae96-d3fc-4d35-bdd9-30f656ad8a1b",
      "metadata": {
        "id": "af26ae96-d3fc-4d35-bdd9-30f656ad8a1b"
      },
      "outputs": [],
      "source": [
        "results_list_anth = glob.glob(results +  '*/*/*anthrop.csv')\n",
        "results_list_bio = glob.glob(results +  '*/*/*biotic.csv')\n",
        "\n",
        "d = date.today()\n",
        "d = d.strftime('%y%m%d')"
      ]
    },
    {
      "cell_type": "code",
      "execution_count": null,
      "id": "56cccf13-654d-4aa2-8958-40e1d3e3f03b",
      "metadata": {
        "id": "56cccf13-654d-4aa2-8958-40e1d3e3f03b"
      },
      "outputs": [],
      "source": [
        "li = []\n",
        "\n",
        "for filename in results_list_anth:\n",
        "    df = pd.read_csv(filename)\n",
        "    df = df.rename(columns={\"Average sound\": \"Average anthropogenic sound\"})\n",
        "    li.append(df)\n",
        "\n",
        "frame_anth = pd.concat(li, axis=0, ignore_index=True)\n"
      ]
    },
    {
      "cell_type": "code",
      "execution_count": null,
      "id": "734c8ce2-f4dd-471b-9214-5784e8f395c2",
      "metadata": {
        "id": "734c8ce2-f4dd-471b-9214-5784e8f395c2"
      },
      "outputs": [],
      "source": [
        "li = []\n",
        "\n",
        "for filename in results_list_bio:\n",
        "    df = pd.read_csv(filename)\n",
        "    df = df.rename(columns={\"Average sound\": \"Average biotic sound\"})\n",
        "    li.append(df)\n",
        "\n",
        "frame_bio = pd.concat(li, axis=0, ignore_index=True)"
      ]
    },
    {
      "cell_type": "code",
      "execution_count": null,
      "id": "ec39b5a8-5fcf-4b81-b517-b20c725fc406",
      "metadata": {
        "id": "ec39b5a8-5fcf-4b81-b517-b20c725fc406"
      },
      "outputs": [],
      "source": [
        "frame_merged =  pd.merge(frame_anth, frame_bio, how='inner', on = 'Filename')\n",
        "frame_merged['SD'] = [os.path.basename(os.path.dirname(f)) for f in frame_merged['Filename']]\n",
        "frame_merged['basename'] = [os.path.basename(f).split('.')[0] for f in frame_merged['Filename']]\n",
        "frame_merged['files_timestamp'] = [datetime.strptime(f, '%Y%m%d_%H%M%S') for f in frame_merged['basename']]\n",
        "frame_merged['hour'] = [f.hour for f in frame_merged['files_timestamp']]\n",
        "\n",
        "\n",
        "frame_merged.columns = frame_merged.columns.str.replace(' ','_')\n",
        "frame_merged.to_csv(results + d +  '_concatenated_results_city_net.csv')"
      ]
    },
    {
      "cell_type": "code",
      "execution_count": null,
      "id": "2842665b-f334-4c0e-87b3-8de59a47395b",
      "metadata": {
        "id": "2842665b-f334-4c0e-87b3-8de59a47395b"
      },
      "outputs": [],
      "source": [
        "# Shutdown the notebook   \n",
        "!sudo shutdown -h now "
      ]
    }
  ],
  "metadata": {
    "environment": {
      "kernel": "python3",
      "name": "tf2-gpu.2-8.m100",
      "type": "gcloud",
      "uri": "gcr.io/deeplearning-platform-release/tf2-gpu.2-8:m100"
    },
    "kernelspec": {
      "display_name": "Python 3",
      "language": "python",
      "name": "python3"
    },
    "language_info": {
      "codemirror_mode": {
        "name": "ipython",
        "version": 3
      },
      "file_extension": ".py",
      "mimetype": "text/x-python",
      "name": "python",
      "nbconvert_exporter": "python",
      "pygments_lexer": "ipython3",
      "version": "3.7.12"
    },
    "colab": {
      "provenance": []
    }
  },
  "nbformat": 4,
  "nbformat_minor": 5
}