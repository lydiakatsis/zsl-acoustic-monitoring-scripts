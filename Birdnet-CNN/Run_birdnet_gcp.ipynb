{
 "cells": [
  {
   "cell_type": "markdown",
   "id": "0ba639ae-8d8a-4945-9b88-6113feaaa947",
   "metadata": {},
   "source": [
    "# Run BirdNet on Bucket files #\n",
    "\n",
    "* Create a user managed vertex notebook on GCP\n",
    "* This script doesnt use GPUs, so only select CPU resources\n",
    "* Model is TFLite -- you can use the default env it gives you, which is Tensorflow\n",
    "* Drag this script into the home directory that pops up when you open the notebook and run everything from there."
   ]
  },
  {
   "cell_type": "markdown",
   "id": "72b73ee2-be45-4f45-bc8e-3f89b3e90243",
   "metadata": {},
   "source": [
    "Load packages"
   ]
  },
  {
   "cell_type": "code",
   "execution_count": 1,
   "id": "607f2e01-8310-45bf-93b7-3555edaefa1a",
   "metadata": {},
   "outputs": [],
   "source": [
    "import glob as glob\n",
    "import pandas as pd\n",
    "import datetime\n",
    "from datetime import datetime, timedelta\n",
    "import os\n",
    "import numpy as np\n",
    "import random\n",
    "from pathlib import Path"
   ]
  },
  {
   "cell_type": "code",
   "execution_count": 17,
   "id": "32762cae-51ac-42fb-bb37-33dc5f941e50",
   "metadata": {
    "collapsed": true,
    "jupyter": {
     "outputs_hidden": true
    },
    "tags": []
   },
   "outputs": [
    {
     "name": "stdout",
     "output_type": "stream",
     "text": [
      "Collecting librosa\n",
      "  Downloading librosa-0.9.2-py3-none-any.whl (214 kB)\n",
      "\u001b[2K     \u001b[90m━━━━━━━━━━━━━━━━━━━━━━━━━━━━━━━━━━━━━━\u001b[0m \u001b[32m214.3/214.3 kB\u001b[0m \u001b[31m15.9 MB/s\u001b[0m eta \u001b[36m0:00:00\u001b[0m\n",
      "\u001b[?25hRequirement already satisfied: decorator>=4.0.10 in /opt/conda/lib/python3.7/site-packages (from librosa) (5.1.1)\n",
      "Collecting soundfile>=0.10.2\n",
      "  Downloading soundfile-0.11.0-py2.py3-none-any.whl (23 kB)\n",
      "Collecting audioread>=2.1.9\n",
      "  Downloading audioread-3.0.0.tar.gz (377 kB)\n",
      "\u001b[2K     \u001b[90m━━━━━━━━━━━━━━━━━━━━━━━━━━━━━━━━━━━━━━\u001b[0m \u001b[32m377.0/377.0 kB\u001b[0m \u001b[31m37.5 MB/s\u001b[0m eta \u001b[36m0:00:00\u001b[0m\n",
      "\u001b[?25h  Preparing metadata (setup.py) ... \u001b[?25ldone\n",
      "\u001b[?25hCollecting resampy>=0.2.2\n",
      "  Downloading resampy-0.4.2-py3-none-any.whl (3.1 MB)\n",
      "\u001b[2K     \u001b[90m━━━━━━━━━━━━━━━━━━━━━━━━━━━━━━━━━━━━━━━━\u001b[0m \u001b[32m3.1/3.1 MB\u001b[0m \u001b[31m68.2 MB/s\u001b[0m eta \u001b[36m0:00:00\u001b[0m:00:01\u001b[0m\n",
      "\u001b[?25hRequirement already satisfied: packaging>=20.0 in /opt/conda/lib/python3.7/site-packages (from librosa) (21.3)\n",
      "Requirement already satisfied: joblib>=0.14 in /opt/conda/lib/python3.7/site-packages (from librosa) (1.2.0)\n",
      "Requirement already satisfied: scipy>=1.2.0 in /opt/conda/lib/python3.7/site-packages (from librosa) (1.7.3)\n",
      "Requirement already satisfied: numpy>=1.17.0 in /opt/conda/lib/python3.7/site-packages (from librosa) (1.21.6)\n",
      "Collecting pooch>=1.0\n",
      "  Downloading pooch-1.6.0-py3-none-any.whl (56 kB)\n",
      "\u001b[2K     \u001b[90m━━━━━━━━━━━━━━━━━━━━━━━━━━━━━━━━━━━━━━━━\u001b[0m \u001b[32m56.3/56.3 kB\u001b[0m \u001b[31m11.6 MB/s\u001b[0m eta \u001b[36m0:00:00\u001b[0m\n",
      "\u001b[?25hRequirement already satisfied: scikit-learn>=0.19.1 in /opt/conda/lib/python3.7/site-packages (from librosa) (1.0.2)\n",
      "Requirement already satisfied: numba>=0.45.1 in /opt/conda/lib/python3.7/site-packages (from librosa) (0.56.3)\n",
      "Requirement already satisfied: llvmlite<0.40,>=0.39.0dev0 in /opt/conda/lib/python3.7/site-packages (from numba>=0.45.1->librosa) (0.39.1)\n",
      "Requirement already satisfied: setuptools in /opt/conda/lib/python3.7/site-packages (from numba>=0.45.1->librosa) (59.8.0)\n",
      "Requirement already satisfied: importlib-metadata in /opt/conda/lib/python3.7/site-packages (from numba>=0.45.1->librosa) (4.11.4)\n",
      "Requirement already satisfied: pyparsing!=3.0.5,>=2.0.2 in /opt/conda/lib/python3.7/site-packages (from packaging>=20.0->librosa) (3.0.9)\n",
      "Collecting appdirs>=1.3.0\n",
      "  Downloading appdirs-1.4.4-py2.py3-none-any.whl (9.6 kB)\n",
      "Requirement already satisfied: requests>=2.19.0 in /opt/conda/lib/python3.7/site-packages (from pooch>=1.0->librosa) (2.28.1)\n",
      "Requirement already satisfied: threadpoolctl>=2.0.0 in /opt/conda/lib/python3.7/site-packages (from scikit-learn>=0.19.1->librosa) (3.1.0)\n",
      "Requirement already satisfied: cffi>=1.0 in /opt/conda/lib/python3.7/site-packages (from soundfile>=0.10.2->librosa) (1.15.1)\n",
      "Requirement already satisfied: pycparser in /opt/conda/lib/python3.7/site-packages (from cffi>=1.0->soundfile>=0.10.2->librosa) (2.21)\n",
      "Requirement already satisfied: urllib3<1.27,>=1.21.1 in /opt/conda/lib/python3.7/site-packages (from requests>=2.19.0->pooch>=1.0->librosa) (1.26.11)\n",
      "Requirement already satisfied: certifi>=2017.4.17 in /opt/conda/lib/python3.7/site-packages (from requests>=2.19.0->pooch>=1.0->librosa) (2022.9.24)\n",
      "Requirement already satisfied: charset-normalizer<3,>=2 in /opt/conda/lib/python3.7/site-packages (from requests>=2.19.0->pooch>=1.0->librosa) (2.1.1)\n",
      "Requirement already satisfied: idna<4,>=2.5 in /opt/conda/lib/python3.7/site-packages (from requests>=2.19.0->pooch>=1.0->librosa) (3.4)\n",
      "Requirement already satisfied: zipp>=0.5 in /opt/conda/lib/python3.7/site-packages (from importlib-metadata->numba>=0.45.1->librosa) (3.10.0)\n",
      "Requirement already satisfied: typing-extensions>=3.6.4 in /opt/conda/lib/python3.7/site-packages (from importlib-metadata->numba>=0.45.1->librosa) (4.4.0)\n",
      "Building wheels for collected packages: audioread\n",
      "  Building wheel for audioread (setup.py) ... \u001b[?25ldone\n",
      "\u001b[?25h  Created wheel for audioread: filename=audioread-3.0.0-py3-none-any.whl size=23706 sha256=8b4904d98d0cfb7bebbf67eec6c623b544002e827bce15ebdf41532346768246\n",
      "  Stored in directory: /home/jupyter/.cache/pip/wheels/dc/38/51/1be02cf6dbd3ef3e2e50a562071c9d574170c4f5096c09d8e1\n",
      "Successfully built audioread\n",
      "Installing collected packages: appdirs, audioread, soundfile, pooch, resampy, librosa\n",
      "Successfully installed appdirs-1.4.4 audioread-3.0.0 librosa-0.9.2 pooch-1.6.0 resampy-0.4.2 soundfile-0.11.0\n"
     ]
    }
   ],
   "source": [
    "!pip install librosa"
   ]
  },
  {
   "cell_type": "markdown",
   "id": "d79e40f1-f33d-4970-ac7a-65224674ae5d",
   "metadata": {},
   "source": [
    "## Mount the Google Cloud bucket ##"
   ]
  },
  {
   "cell_type": "code",
   "execution_count": 3,
   "id": "4867b2ca-0874-4ab1-996e-381c1ad5aacc",
   "metadata": {},
   "outputs": [],
   "source": [
    "# Change this if using a different bucket\n",
    "bucket_name = 'nr-acoustic-data'"
   ]
  },
  {
   "cell_type": "code",
   "execution_count": 4,
   "id": "e24f88ef-1863-4b12-bd30-ad95b6fe8013",
   "metadata": {},
   "outputs": [
    {
     "name": "stdout",
     "output_type": "stream",
     "text": [
      "mounted\n"
     ]
    }
   ],
   "source": [
    "!mountpoint -q /home/jupyter/gcs && echo \"mounted\" || gcsfuse --implicit-dirs --rename-dir-limit=100 --disable-http2 --max-conns-per-host=100 bucket_name \"/home/jupyter/gcs\""
   ]
  },
  {
   "cell_type": "markdown",
   "id": "0f86dbbf-3188-442c-995f-eb6899d2da3b",
   "metadata": {},
   "source": [
    "## Clone BirdNet repo ##"
   ]
  },
  {
   "cell_type": "code",
   "execution_count": 2,
   "id": "1ff8294b-d6d0-40eb-be2e-5db4362ba856",
   "metadata": {
    "collapsed": true,
    "jupyter": {
     "outputs_hidden": true
    },
    "tags": []
   },
   "outputs": [
    {
     "name": "stdout",
     "output_type": "stream",
     "text": [
      "Cloning into 'BirdNET-Lite'...\n",
      "remote: Enumerating objects: 45, done.\u001b[K\n",
      "remote: Counting objects: 100% (3/3), done.\u001b[K\n",
      "remote: Compressing objects: 100% (3/3), done.\u001b[K\n",
      "remote: Total 45 (delta 0), reused 0 (delta 0), pack-reused 42\u001b[K\n",
      "Unpacking objects: 100% (45/45), done.\n"
     ]
    }
   ],
   "source": [
    "!git clone https://github.com/lydiakatsis/BirdNET-Lite.git"
   ]
  },
  {
   "cell_type": "code",
   "execution_count": 3,
   "id": "2b814075-0ab0-4c7e-9c4a-9b9646c2281a",
   "metadata": {},
   "outputs": [],
   "source": [
    "!cp BirdNET-Lite/analyze_.py ."
   ]
  },
  {
   "cell_type": "code",
   "execution_count": 7,
   "id": "9134d4bd-1038-43fb-886c-eada08ae82ed",
   "metadata": {},
   "outputs": [],
   "source": [
    "# Change these folders\n",
    "input_folder = \"gcs/MSD-56/\"\n",
    "results_folder =\"gcs/output/\""
   ]
  },
  {
   "cell_type": "code",
   "execution_count": 8,
   "id": "9dcbcc03-a58c-4d0f-979e-830116d224c9",
   "metadata": {
    "collapsed": true,
    "jupyter": {
     "outputs_hidden": true
    },
    "tags": []
   },
   "outputs": [
    {
     "name": "stdout",
     "output_type": "stream",
     "text": [
      "INFO: Created TensorFlow Lite delegate for select TF ops.\n",
      "INFO: TfLiteFlexDelegate delegate: 1 nodes delegated out of 182 nodes with 1 partitions.\n",
      "\n",
      "INFO: Created TensorFlow Lite XNNPACK delegate for CPU.\n",
      "LOADING TF LITE MODEL... DONE!\n",
      "READING AUDIO DATA... DONE! READ 2 CHUNKS.\n",
      "ANALYZING AUDIO... DONE! Time 0.2 SECONDS\n",
      "WRITING RESULTS TO gcs/output/MSD-56/20220302_090845.csv ... DONE! WROTE 0 RESULTS.\n",
      "READING AUDIO DATA... DONE! READ 200 CHUNKS.\n",
      "ANALYZING AUDIO... DONE! Time 15.8 SECONDS\n",
      "WRITING RESULTS TO gcs/output/MSD-56/20220302_120000.csv ... DONE! WROTE 1 RESULTS.\n",
      "READING AUDIO DATA... DONE! READ 200 CHUNKS.\n",
      "ANALYZING AUDIO... DONE! Time 16.0 SECONDS\n",
      "WRITING RESULTS TO gcs/output/MSD-56/20220302_130000.csv ... DONE! WROTE 20 RESULTS.\n",
      "READING AUDIO DATA... DONE! READ 200 CHUNKS.\n",
      "ANALYZING AUDIO... DONE! Time 15.9 SECONDS\n",
      "WRITING RESULTS TO gcs/output/MSD-56/20220302_140000.csv ... DONE! WROTE 23 RESULTS.\n",
      "READING AUDIO DATA... DONE! READ 200 CHUNKS.\n",
      "ANALYZING AUDIO... ^C\n",
      "Error in processing file: /home/jupyter/gcs/MSD-56/20220302_150000.WAV\n",
      "READING AUDIO DATA... DONE! READ 200 CHUNKS.\n",
      "ANALYZING AUDIO... "
     ]
    }
   ],
   "source": [
    "# Make sure to update lat, long, week, and min_conf \n",
    "# This version uses a specific bird list of species found in London\n",
    "\n",
    "!python analyze.py --i \"$input_folder\" --o \"$results_folder\" --lat 51.507359 --lon -0.136439 --week 9 --min_conf 0.5 --sensitivity 0.85 --custom_list 'BirdNET-Lite/london_birdnet_a.txt'"
   ]
  },
  {
   "cell_type": "markdown",
   "id": "50654f23-9a84-40f3-8acf-fb70d96f3d1c",
   "metadata": {},
   "source": [
    "## Read in results csvs and reformat to make easier to interpret ##\n",
    "This code reads in all the invididual csvs created, and compiles into one, with information of file name, date and time added. Resulting csv written to folder location, under name of 'concatenated_results.csv'"
   ]
  },
  {
   "cell_type": "code",
   "execution_count": 9,
   "id": "fbde6995-5808-4ab0-8aad-f7602780e457",
   "metadata": {},
   "outputs": [],
   "source": [
    "results_list = glob.glob(results_folder +  '/*/*.csv')"
   ]
  },
  {
   "cell_type": "code",
   "execution_count": 11,
   "id": "a84fce77-b843-4799-864e-247351928727",
   "metadata": {
    "tags": []
   },
   "outputs": [],
   "source": [
    "li = []\n",
    "\n",
    "for filename in results_list:\n",
    "    df = pd.read_csv(filename, sep=';')\n",
    "    df['file_name'] = os.path.splitext(os.path.basename(filename))[0]\n",
    "    df['path'] = filename[:-3]+'WAV'\n",
    "    df['date'] = [f[0:7] for f in df['file_name']]\n",
    "    df['time'] = [f[9:15] for f in df['file_name']]\n",
    "\n",
    "    li.append(df)\n",
    "\n",
    "frame = pd.concat(li, axis=0, ignore_index=True)\n",
    "\n",
    "frame.to_csv(results_folder + 'concatenated_results.csv')"
   ]
  },
  {
   "cell_type": "markdown",
   "id": "bd7df900-9453-4d3f-98ff-e81e96d2f749",
   "metadata": {},
   "source": [
    "## Results summary - create list of unique species IDs ##"
   ]
  },
  {
   "cell_type": "code",
   "execution_count": 12,
   "id": "b876425e-5d81-45cd-9b26-db0aee75a2a8",
   "metadata": {},
   "outputs": [
    {
     "name": "stdout",
     "output_type": "stream",
     "text": [
      "number of species: 24\n"
     ]
    }
   ],
   "source": [
    "print('number of species:', frame['Common name'].nunique()  )"
   ]
  },
  {
   "cell_type": "code",
   "execution_count": 13,
   "id": "20de2f0b-4bb6-4826-8e62-fec9b2e201bd",
   "metadata": {},
   "outputs": [
    {
     "data": {
      "text/plain": [
       "Eurasian Wren               107\n",
       "European Robin               88\n",
       "Great Tit                    38\n",
       "Eurasian Blue Tit            32\n",
       "Eurasian Magpie               9\n",
       "Long-tailed Tit               5\n",
       "Hawfinch                      5\n",
       "Dunnock                       4\n",
       "Eurasian Collared-Dove        4\n",
       "Redwing                       3\n",
       "Great Spotted Woodpecker      3\n",
       "Eurasian Treecreeper          2\n",
       "Short-toed Treecreeper        2\n",
       "Carrion Crow                  2\n",
       "Rose-ringed Parakeet          2\n",
       "Eurasian Bullfinch            1\n",
       "Spotted Flycatcher            1\n",
       "Coal Tit                      1\n",
       "European Serin                1\n",
       "Eurasian Hoopoe               1\n",
       "Common Firecrest              1\n",
       "European Goldfinch            1\n",
       "Song Thrush                   1\n",
       "Eurasian Nutcracker           1\n",
       "Name: Common name, dtype: int64"
      ]
     },
     "execution_count": 13,
     "metadata": {},
     "output_type": "execute_result"
    }
   ],
   "source": [
    "frame['Common name'].value_counts()"
   ]
  },
  {
   "cell_type": "code",
   "execution_count": null,
   "id": "ca484fcc-f224-4a01-98fc-4db915ce755b",
   "metadata": {},
   "outputs": [],
   "source": []
  }
 ],
 "metadata": {
  "environment": {
   "kernel": "python3",
   "name": "tf2-gpu.2-8.m99",
   "type": "gcloud",
   "uri": "gcr.io/deeplearning-platform-release/tf2-gpu.2-8:m99"
  },
  "kernelspec": {
   "display_name": "Python 3",
   "language": "python",
   "name": "python3"
  },
  "language_info": {
   "codemirror_mode": {
    "name": "ipython",
    "version": 3
   },
   "file_extension": ".py",
   "mimetype": "text/x-python",
   "name": "python",
   "nbconvert_exporter": "python",
   "pygments_lexer": "ipython3",
   "version": "3.7.12"
  }
 },
 "nbformat": 4,
 "nbformat_minor": 5
}
