{
  "cells": [
    {
      "cell_type": "markdown",
      "metadata": {
        "id": "view-in-github",
        "colab_type": "text"
      },
      "source": [
        "<a href=\"https://colab.research.google.com/github/lydiakatsis/zsl-acoustic-monitoring-scripts/blob/main/Birdnet-CNN/Run_BirdNet_Colab.ipynb\" target=\"_parent\"><img src=\"https://colab.research.google.com/assets/colab-badge.svg\" alt=\"Open In Colab\"/></a>"
      ]
    },
    {
      "cell_type": "markdown",
      "id": "5b755b6c-9d05-49b8-ac59-841fe93269f0",
      "metadata": {
        "tags": [],
        "id": "5b755b6c-9d05-49b8-ac59-841fe93269f0"
      },
      "source": [
        "# Run BirdNet on Colab #\n",
        "\n",
        "## Instructions ##\n",
        " \n",
        "1. The only part of this script you will need to change is the directory of audio files and results folders.\n",
        "    * Change these file paths to the paths of your input folder and output folder within the Bucket.\n",
        "2. Once you have set the file directories, select Run -> Run all cells from the menu above.\n",
        "3. The final argument should shut down the instance when this has finished, however if there is an error at some point or the script becomes unresponsive, then this argument will not be executed, so you should check in on progress of script periodically.\n",
        "4. If scripts becomes unresponsive before it has completed, then restart the kernel. The script is unresponsive if the boxes next to the current command changes from [*] / [number] to [ ] \n",
        "\n",
        "**Source of potential errors:** \n",
        "\n",
        "* The notebook may become unresponsive after running for a long time - you will have to restart notebook and code again.\n",
        "\n",
        "* Some files will not be analysed as there will be several 0MB files recorded by the AudioMoth, so don't be concerned if some files can't be analysed.\n",
        "\n",
        "\n",
        "\n"
      ]
    },
    {
      "cell_type": "markdown",
      "id": "d57fba89-c345-48d9-8926-0e96ffc5c289",
      "metadata": {
        "id": "d57fba89-c345-48d9-8926-0e96ffc5c289"
      },
      "source": [
        "## Clone repo ##"
      ]
    },
    {
      "cell_type": "code",
      "execution_count": null,
      "id": "a113b532-6cb4-4fc9-993c-1df878b388ce",
      "metadata": {
        "collapsed": true,
        "jupyter": {
          "outputs_hidden": true
        },
        "tags": [],
        "id": "a113b532-6cb4-4fc9-993c-1df878b388ce"
      },
      "outputs": [],
      "source": [
        "# This is the new one - more species, and other things also!!\n",
        "![ -d \"/content/BirdNET-Analyzer\" ] && echo \"Scripts are downloaded\" || git clone https://github.com/kahst/BirdNET-Analyzer.git\n",
        "!wget -O BirdNET-Analyzer/species_list.txt \"https://www.dropbox.com/s/3ji3dzxs9gsa6t7/london_birdnet_a.txt?dl=0\""
      ]
    },
    {
      "cell_type": "code",
      "execution_count": null,
      "id": "af601338-1491-430e-be21-faf59dd88802",
      "metadata": {
        "tags": [],
        "id": "af601338-1491-430e-be21-faf59dd88802"
      },
      "outputs": [],
      "source": [
        "# Install libraries\n",
        "!pip show librosa && echo \"librosa installed\" || pip install librosa\n",
        "!pip show tensorflow && echo \"tensorflow installed\" || pip install tensorflow \n"
      ]
    },
    {
      "cell_type": "markdown",
      "source": [
        "## 1. Running on Google Cloud Bucket data\n",
        "\n",
        "Mount Google Cloud Bucket so can access data like a local directory."
      ],
      "metadata": {
        "id": "vTcGhq3gTqT2"
      },
      "id": "vTcGhq3gTqT2"
    },
    {
      "cell_type": "code",
      "source": [
        "# Make sure GCSFUSE in installed so can mount bucket\n",
        "!echo \"deb http://packages.cloud.google.com/apt gcsfuse-bionic main\" > /etc/apt/sources.list.d/gcsfuse.list\n",
        "!curl https://packages.cloud.google.com/apt/doc/apt-key.gpg | apt-key add -\n",
        "!apt -qq update\n",
        "!apt -qq install gcsfuse"
      ],
      "metadata": {
        "id": "3W5fASn4Tp-H"
      },
      "execution_count": null,
      "outputs": [],
      "id": "3W5fASn4Tp-H"
    },
    {
      "cell_type": "code",
      "source": [
        "# Authenication and PROJECT_ID allocation - change PROJECT_ID if necessary\n",
        "from google.colab import auth\n",
        "auth.authenticate_user()\n",
        "PROJECT_ID = \"zsl-acoustic-pipeline\""
      ],
      "metadata": {
        "id": "zGnm8ThyT5VD"
      },
      "execution_count": 5,
      "outputs": [],
      "id": "zGnm8ThyT5VD"
    },
    {
      "cell_type": "code",
      "source": [
        "# Mount bucket - change 'acoustic-data-raw' to bucket name with raw data, and 'acoustic-processing-outputs' to bucket name for output storage.\n",
        "!mountpoint -q /content/gcs_raw && echo \"mounted\" || mkdir -p /content/gcs_raw; gcsfuse --implicit-dirs --rename-dir-limit=100 --disable-http2 --max-conns-per-host=100 \"acoustic-data-raw\" \"/content/gcs_raw\"\n",
        "!mountpoint -q /content/gcs_outputs && echo \"mounted\" || mkdir -p /content/gcs_outputs; gcsfuse --implicit-dirs --rename-dir-limit=100 --disable-http2 --max-conns-per-host=100 \"acoustic-processing-outputs\" \"/content/gcs_outputs\"\n"
      ],
      "metadata": {
        "id": "RgtaPohnT7SZ"
      },
      "execution_count": null,
      "outputs": [],
      "id": "RgtaPohnT7SZ"
    },
    {
      "cell_type": "markdown",
      "source": [
        "**OR**"
      ],
      "metadata": {
        "id": "cS86GCj0DztF"
      },
      "id": "cS86GCj0DztF"
    },
    {
      "cell_type": "markdown",
      "source": [
        "## 2. Running on Google Drive data\n",
        "\n",
        "Mount Google Drive so can access like local directory"
      ],
      "metadata": {
        "id": "PrO9sjk0Tzw2"
      },
      "id": "PrO9sjk0Tzw2"
    },
    {
      "cell_type": "code",
      "source": [
        "from google.colab import drive\n",
        "drive.mount('/content/drive')"
      ],
      "metadata": {
        "id": "EgkNsG_ETosN"
      },
      "execution_count": null,
      "outputs": [],
      "id": "EgkNsG_ETosN"
    },
    {
      "cell_type": "markdown",
      "id": "7101dd00-6dd0-4235-bf20-cd1ab375bf6a",
      "metadata": {
        "tags": [],
        "id": "7101dd00-6dd0-4235-bf20-cd1ab375bf6a"
      },
      "source": [
        "## Set folders for input (i.e. sound folders to analyse) and output ##\n",
        "\n",
        "These folders will be mounted on the left, so will start with '/home/jupyter/' but they are accessing files from the Google Cloud Bucket that you mounted. Make sure input_folder is the raw audio folder, and the results_folder is within gcs_outputs.\n",
        "\n",
        "**All you need to change from below is 'trial_data_2021' on both lines to the new folder.**\n",
        "\n",
        "# &darr; &darr; &darr; &darr; &darr; &darr; &darr; &darr; &darr; &darr; &darr; &darr; #"
      ]
    },
    {
      "cell_type": "code",
      "execution_count": 7,
      "id": "fa062f7b-fb75-455b-aff8-65c142cd3132",
      "metadata": {
        "id": "fa062f7b-fb75-455b-aff8-65c142cd3132"
      },
      "outputs": [],
      "source": [
        "# Change these folders\n",
        "# Make sure output is in a gcs bucket\n",
        "input_folder = \"/content/gcs_raw/trial_data_2021/bird-config/\"\n",
        "results_folder =\"/content/gcs_outputs/trial_data_2021/birdnet/\""
      ]
    },
    {
      "cell_type": "markdown",
      "id": "bc2cb4a3-05c2-4f40-ae74-5067ecabf02f",
      "metadata": {
        "id": "bc2cb4a3-05c2-4f40-ae74-5067ecabf02f"
      },
      "source": [
        "# &uarr; &uarr; &uarr; &uarr; &uarr; &uarr; &uarr; &uarr; &uarr; &uarr; &uarr; &uarr; #"
      ]
    },
    {
      "cell_type": "markdown",
      "id": "e3e3af0a-0056-42ff-8fb2-e1d3bb966d5a",
      "metadata": {
        "id": "e3e3af0a-0056-42ff-8fb2-e1d3bb966d5a"
      },
      "source": [
        "# Run analyser #"
      ]
    },
    {
      "cell_type": "code",
      "source": [
        "cd /content/BirdNET-Analyzer"
      ],
      "metadata": {
        "colab": {
          "base_uri": "https://localhost:8080/"
        },
        "id": "9_CZAVbPIr96",
        "outputId": "cdd2ce34-e7f6-4795-ce58-9769a2ecb1d9"
      },
      "id": "9_CZAVbPIr96",
      "execution_count": 9,
      "outputs": [
        {
          "output_type": "stream",
          "name": "stdout",
          "text": [
            "/content/BirdNET-Analyzer\n"
          ]
        }
      ]
    },
    {
      "cell_type": "code",
      "execution_count": 10,
      "id": "45209299-dd10-4be6-8466-cabdcaf99a32",
      "metadata": {
        "tags": [],
        "colab": {
          "base_uri": "https://localhost:8080/"
        },
        "id": "45209299-dd10-4be6-8466-cabdcaf99a32",
        "outputId": "22f87dbf-49c3-45d9-e81a-deca07639e36"
      },
      "outputs": [
        {
          "output_type": "stream",
          "name": "stdout",
          "text": [
            "INFO: Created TensorFlow Lite XNNPACK delegate for CPU.\n",
            "Species list contains 109 species\n",
            "Found 2 files to analyze\n",
            "Analyzing /content/gcs_raw/trial_data_2021/bird-config/MSD-X/20220306_062700.WAV\n",
            "Analyzing /content/gcs_raw/trial_data_2021/bird-config/MSD-Y/20220303_172600.WAV\n",
            "tcmalloc: large alloc 1382400000 bytes == 0x8878000 @  0x7f54d8db41e7 0x7f54d65fe14e 0x7f54d6656745 0x7f54d66569bf 0x7f54d66f9773 0x5aae14 0x49abe4 0x4fd2db 0x4997c7 0x4fd8b5 0x49abe4 0x55cd91 0x5d8941 0x49abe4 0x55cd91 0x5d8941 0x4997c7 0x5d8868 0x4990ca 0x5d8868 0x532594 0x5d1e94 0x5d8cdf 0x55dc1e 0x5d8868 0x5d8506 0x55f797 0x55cd91 0x5d8941 0x5d8506 0x55f797\n",
            "tcmalloc: large alloc 1382400000 bytes == 0x8878000 @  0x7f54d8db41e7 0x7f54d65fe14e 0x7f54d6656745 0x7f54d66569bf 0x7f54d66f9773 0x5aae14 0x49abe4 0x4fd2db 0x4997c7 0x4fd8b5 0x49abe4 0x55cd91 0x5d8941 0x49abe4 0x55cd91 0x5d8941 0x4997c7 0x5d8868 0x4990ca 0x5d8868 0x532594 0x5d1e94 0x5d8cdf 0x55dc1e 0x5d8868 0x5d8506 0x55f797 0x55cd91 0x5d8941 0x5d8506 0x55f797\n",
            "Finished /content/gcs_raw/trial_data_2021/bird-config/MSD-Y/20220303_172600.WAV in 388.83 seconds\n",
            "Finished /content/gcs_raw/trial_data_2021/bird-config/MSD-X/20220306_062700.WAV in 390.53 seconds\n"
          ]
        }
      ],
      "source": [
        "# Adjust arguments for lat, lon, week of year and species list accordingly\n",
        "# species_list.txt is a list of species occurring in London for use in Network Rail analysis\n",
        "!python analyze.py --i \"$input_folder\" --o \"$results_folder\" --lat 51.507359 --lon -0.136439 --week 11 --min_conf 0.8 --slist 'species_list.txt' --threads 2"
      ]
    },
    {
      "cell_type": "markdown",
      "id": "df1d6595-da35-4099-92bd-f0fa1aa58d0d",
      "metadata": {
        "id": "df1d6595-da35-4099-92bd-f0fa1aa58d0d"
      },
      "source": [
        "# Concatenate results into one csv #"
      ]
    },
    {
      "cell_type": "code",
      "execution_count": 11,
      "id": "3701e03c-c754-4c4a-a2ee-3624bb7cb7b7",
      "metadata": {
        "id": "3701e03c-c754-4c4a-a2ee-3624bb7cb7b7"
      },
      "outputs": [],
      "source": [
        "import glob as glob\n",
        "import pandas as pd\n",
        "import os\n",
        "from datetime import date, datetime"
      ]
    },
    {
      "cell_type": "code",
      "execution_count": 12,
      "id": "13eb7bda-9400-4303-b8f2-a260be4d4678",
      "metadata": {
        "id": "13eb7bda-9400-4303-b8f2-a260be4d4678"
      },
      "outputs": [],
      "source": [
        "d = date.today()\n",
        "d = str(d)\n",
        "results_list = glob.glob(results_folder +  '*/*.txt')\n",
        "metadata = pd.read_csv('/content/gcs_raw/nr-acoustic-data/metadata/NR_deployment_2022_ARUs.csv')\n",
        "\n",
        "li = []\n",
        "\n",
        "for filename in results_list:\n",
        "    df = pd.read_csv(filename, sep='\\t')\n",
        "    df['file_name'] = os.path.splitext(os.path.basename(filename))[0]\n",
        "    df['path'] = filename[:-3]+'WAV'\n",
        "    df['datetime'] = [f[0:15] for f in df['file_name']]\n",
        "    df['time'] = pd.to_datetime(df['datetime'], format='%Y%m%d_%H%M%S') +  pd.to_timedelta(df[\"Begin Time (s)\"], unit='s')\n",
        "    df['date'] = [f[0:7] for f in df['file_name']]\n",
        "    df['ID'] = os.path.basename(os.path.dirname(filename))\n",
        "    li.append(df)\n",
        "\n",
        "frame = pd.concat(li, axis=0, ignore_index=True)\n",
        "frame = pd.merge(frame, metadata, on='ID', how='inner')\n",
        "frame.to_csv(results_folder + d + '_concatenated_results_birdnet.csv')"
      ]
    }
  ],
  "metadata": {
    "environment": {
      "kernel": "python3",
      "name": "tf2-gpu.2-8.m100",
      "type": "gcloud",
      "uri": "gcr.io/deeplearning-platform-release/tf2-gpu.2-8:m100"
    },
    "kernelspec": {
      "display_name": "Python 3",
      "language": "python",
      "name": "python3"
    },
    "language_info": {
      "codemirror_mode": {
        "name": "ipython",
        "version": 3
      },
      "file_extension": ".py",
      "mimetype": "text/x-python",
      "name": "python",
      "nbconvert_exporter": "python",
      "pygments_lexer": "ipython3",
      "version": "3.7.12"
    },
    "colab": {
      "provenance": [],
      "include_colab_link": true
    }
  },
  "nbformat": 4,
  "nbformat_minor": 5
}