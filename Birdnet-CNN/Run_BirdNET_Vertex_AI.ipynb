{
  "cells": [
    {
      "cell_type": "markdown",
      "metadata": {
        "id": "view-in-github",
        "colab_type": "text"
      },
      "source": [
        "<a href=\"https://colab.research.google.com/github/lydiakatsis/zsl-acoustic-monitoring-scripts/blob/main/Birdnet-CNN/Run_BirdNET_Vertex_AI.ipynb\" target=\"_parent\"><img src=\"https://colab.research.google.com/assets/colab-badge.svg\" alt=\"Open In Colab\"/></a>"
      ]
    },
    {
      "cell_type": "markdown",
      "id": "5b755b6c-9d05-49b8-ac59-841fe93269f0",
      "metadata": {
        "tags": [],
        "id": "5b755b6c-9d05-49b8-ac59-841fe93269f0"
      },
      "source": [
        "# Run BirdNet on Cloud Bucket files in Vertex AI #\n",
        "\n",
        "## Instructions ##\n",
        " \n",
        "1. The only part of this script you will need to change is the directory of audio files and results folders.\n",
        "    * Change these file paths to the paths of your input folder and output folder within the Bucket.\n",
        "2. Once you have set the file directories, select Run -> Run all cells from the menu above.\n",
        "3. The final argument should shut down the instance when this has finished, however if there is an error at some point or the script becomes unresponsive, then this argument will not be executed, so you should check in on progress of script periodically.\n",
        "4. If scripts becomes unresponsive before it has completed, then restart the kernel. The script is unresponsive if the boxes next to the current command changes from [*] / [number] to [ ] \n",
        "\n",
        "**Source of potential errors:** \n",
        "* If you have set up a new notebook with a lower number of CPUs, then the number of threads argument on cell 6 may need changing to a lower number.\n",
        "\n",
        "* The notebook may become unresponsive after running for a long time - you will have to restart notebook and code again.\n",
        "\n",
        "* Some files will not be analysed as there will be several 0MB files recorded by the AudioMoth, so don't be concerned if some files can't be analysed.\n",
        "\n",
        "\n",
        "\n"
      ]
    },
    {
      "cell_type": "markdown",
      "id": "cd5d5160-f429-4f9d-8dd6-f4e568252937",
      "metadata": {
        "id": "cd5d5160-f429-4f9d-8dd6-f4e568252937"
      },
      "source": [
        "## Mount buckets ##"
      ]
    },
    {
      "cell_type": "code",
      "execution_count": null,
      "id": "81db52cd-024e-44d1-9d74-3398a321a2f9",
      "metadata": {
        "collapsed": true,
        "jupyter": {
          "outputs_hidden": true
        },
        "tags": [],
        "id": "81db52cd-024e-44d1-9d74-3398a321a2f9",
        "outputId": "80387849-c8f1-4652-8133-7498d63aa055"
      },
      "outputs": [
        {
          "name": "stdout",
          "output_type": "stream",
          "text": [
            "2022/11/24 10:48:38.247257 Start gcsfuse/0.41.8 (Go version go1.18.4) for app \"\" using mount point: /home/jupyter/gcs_raw\n",
            "2022/11/24 10:48:38.264325 Opening GCS connection...\n",
            "2022/11/24 10:48:38.395506 Mounting file system \"acoustic-data-raw\"...\n",
            "2022/11/24 10:48:38.419094 File system has been successfully mounted.\n",
            "2022/11/24 10:48:38.551976 Start gcsfuse/0.41.8 (Go version go1.18.4) for app \"\" using mount point: /home/jupyter/gcs_outputs\n",
            "2022/11/24 10:48:38.566143 Opening GCS connection...\n",
            "2022/11/24 10:48:38.672340 Mounting file system \"acoustic-processing-outputs\"...\n",
            "2022/11/24 10:48:38.705055 File system has been successfully mounted.\n"
          ]
        }
      ],
      "source": [
        "# Mount raw data bucket - this bucket contains all the wav files \n",
        "!mountpoint -q /home/jupyter/gcs_raw && echo \"mounted\" || mkdir -p gcs_raw; gcsfuse --implicit-dirs --rename-dir-limit=100 --disable-http2 --max-conns-per-host=100 \"acoustic-data-raw\" \"/home/jupyter/gcs_raw\"\n",
        "# Mount outputs bucket - results csvs will be written to this bucket\n",
        "!mountpoint -q /home/jupyter/gcs_outputs && echo \"mounted\" || mkdir -p gcs_outputs; gcsfuse --implicit-dirs --rename-dir-limit=100 --disable-http2 --max-conns-per-host=100 \"acoustic-processing-outputs\" \"/home/jupyter/gcs_outputs\""
      ]
    },
    {
      "cell_type": "markdown",
      "id": "7101dd00-6dd0-4235-bf20-cd1ab375bf6a",
      "metadata": {
        "tags": [],
        "id": "7101dd00-6dd0-4235-bf20-cd1ab375bf6a"
      },
      "source": [
        "## Set folders for input (i.e. sound folders to analyse) and output ##\n",
        "\n",
        "These folders will be mounted on the left, so will start with '/home/jupyter/' but they are accessing files from the Google Cloud Bucket that you mounted. Make sure input_folder is the raw audio folder, and the results_folder is within gcs_outputs.\n",
        "\n",
        "**All you need to change from below is 'trial_data_2021' on both lines to the new folder.**\n",
        "\n",
        "# &darr; &darr; &darr; &darr; &darr; &darr; &darr; &darr; &darr; &darr; &darr; &darr; #"
      ]
    },
    {
      "cell_type": "code",
      "execution_count": null,
      "id": "fa062f7b-fb75-455b-aff8-65c142cd3132",
      "metadata": {
        "id": "fa062f7b-fb75-455b-aff8-65c142cd3132"
      },
      "outputs": [],
      "source": [
        "# Change these folders\n",
        "# Make sure output is in a gcs bucket\n",
        "input_folder = \"/home/jupyter/gcs_raw/trial_data_2021/bird-config/\"\n",
        "results_folder =\"/home/jupyter/gcs_outputs/trial_data_2021/birdnet/\""
      ]
    },
    {
      "cell_type": "markdown",
      "id": "bc2cb4a3-05c2-4f40-ae74-5067ecabf02f",
      "metadata": {
        "id": "bc2cb4a3-05c2-4f40-ae74-5067ecabf02f"
      },
      "source": [
        "# &uarr; &uarr; &uarr; &uarr; &uarr; &uarr; &uarr; &uarr; &uarr; &uarr; &uarr; &uarr; #"
      ]
    },
    {
      "cell_type": "markdown",
      "id": "d57fba89-c345-48d9-8926-0e96ffc5c289",
      "metadata": {
        "id": "d57fba89-c345-48d9-8926-0e96ffc5c289"
      },
      "source": [
        "## Clone repo ##"
      ]
    },
    {
      "cell_type": "code",
      "execution_count": null,
      "id": "a113b532-6cb4-4fc9-993c-1df878b388ce",
      "metadata": {
        "collapsed": true,
        "jupyter": {
          "outputs_hidden": true
        },
        "tags": [],
        "id": "a113b532-6cb4-4fc9-993c-1df878b388ce",
        "outputId": "4c984e76-c22e-49d1-a1ca-5b5ac57f36c1"
      },
      "outputs": [
        {
          "name": "stdout",
          "output_type": "stream",
          "text": [
            "fatal: destination path 'BirdNET-Analyzer' already exists and is not an empty directory.\n",
            "--2022-11-23 10:58:09--  https://www.dropbox.com/s/3ji3dzxs9gsa6t7/london_birdnet_a.txt?dl=0\n",
            "Resolving www.dropbox.com (www.dropbox.com)... 162.125.2.18, 2620:100:6020:18::a27d:4012\n",
            "Connecting to www.dropbox.com (www.dropbox.com)|162.125.2.18|:443... connected.\n",
            "HTTP request sent, awaiting response... 302 Found\n",
            "Location: /s/raw/3ji3dzxs9gsa6t7/london_birdnet_a.txt [following]\n",
            "--2022-11-23 10:58:10--  https://www.dropbox.com/s/raw/3ji3dzxs9gsa6t7/london_birdnet_a.txt\n",
            "Reusing existing connection to www.dropbox.com:443.\n",
            "HTTP request sent, awaiting response... 302 Found\n",
            "Location: https://uc79d509f3034583e0c46adc6d13.dl.dropboxusercontent.com/cd/0/inline/BxQUf8KRDLr5gdfGLQStBMFDCF4Byj4Bx3tL3q-IY_ZeUzUmCNnGT3M5SeWxq3eVLrAcfmwdIubQX754F4fKwgC0epYpwPvl6lnN0ppKyniMBROEL5D8F14hT2cft3sUNZijANKASQxUU2eczvysKSaqxB_e7rW2LM2sj-D9u2A_sA/file# [following]\n",
            "--2022-11-23 10:58:10--  https://uc79d509f3034583e0c46adc6d13.dl.dropboxusercontent.com/cd/0/inline/BxQUf8KRDLr5gdfGLQStBMFDCF4Byj4Bx3tL3q-IY_ZeUzUmCNnGT3M5SeWxq3eVLrAcfmwdIubQX754F4fKwgC0epYpwPvl6lnN0ppKyniMBROEL5D8F14hT2cft3sUNZijANKASQxUU2eczvysKSaqxB_e7rW2LM2sj-D9u2A_sA/file\n",
            "Resolving uc79d509f3034583e0c46adc6d13.dl.dropboxusercontent.com (uc79d509f3034583e0c46adc6d13.dl.dropboxusercontent.com)... 162.125.7.15, 2620:100:6023:15::a27d:430f\n",
            "Connecting to uc79d509f3034583e0c46adc6d13.dl.dropboxusercontent.com (uc79d509f3034583e0c46adc6d13.dl.dropboxusercontent.com)|162.125.7.15|:443... connected.\n",
            "HTTP request sent, awaiting response... 200 OK\n",
            "Length: 12291 (12K) [text/plain]\n",
            "Saving to: ‘BirdNET-Analyzer/species_list.txt’\n",
            "\n",
            "BirdNET-Analyzer/sp 100%[===================>]  12.00K  --.-KB/s    in 0s      \n",
            "\n",
            "2022-11-23 10:58:11 (189 MB/s) - ‘BirdNET-Analyzer/species_list.txt’ saved [12291/12291]\n",
            "\n"
          ]
        }
      ],
      "source": [
        "# This is the new one - more species, and other things also!!\n",
        "![ -d \"/home/jupyter/BirdNET-Analyzer\" ] && echo \"Scripts are downloaded\" || git clone https://github.com/kahst/BirdNET-Analyzer.git\n",
        "!wget -O BirdNET-Analyzer/species_list.txt \"https://www.dropbox.com/s/3ji3dzxs9gsa6t7/london_birdnet_a.txt?dl=0\""
      ]
    },
    {
      "cell_type": "code",
      "execution_count": null,
      "id": "af601338-1491-430e-be21-faf59dd88802",
      "metadata": {
        "tags": [],
        "id": "af601338-1491-430e-be21-faf59dd88802"
      },
      "outputs": [],
      "source": [
        "# If librosa doesn't import, pip install it\n",
        "!pip show librosa && echo \"librosa installed\" || pip install librosa"
      ]
    },
    {
      "cell_type": "markdown",
      "id": "e3e3af0a-0056-42ff-8fb2-e1d3bb966d5a",
      "metadata": {
        "id": "e3e3af0a-0056-42ff-8fb2-e1d3bb966d5a"
      },
      "source": [
        "# Run analyser #"
      ]
    },
    {
      "cell_type": "code",
      "execution_count": null,
      "id": "45209299-dd10-4be6-8466-cabdcaf99a32",
      "metadata": {
        "tags": [],
        "id": "45209299-dd10-4be6-8466-cabdcaf99a32"
      },
      "outputs": [],
      "source": [
        "cd /home/jupyter/BirdNET-Analyzer\n",
        "!python analyze.py --i \"$input_folder\" --o \"$results_folder\" --lat 51.507359 --lon -0.136439 --week 11 --min_conf 0.8 --slist 'species_list.txt' --threads 8"
      ]
    },
    {
      "cell_type": "markdown",
      "id": "df1d6595-da35-4099-92bd-f0fa1aa58d0d",
      "metadata": {
        "id": "df1d6595-da35-4099-92bd-f0fa1aa58d0d"
      },
      "source": [
        "# Concatenate results into one csv #"
      ]
    },
    {
      "cell_type": "code",
      "execution_count": null,
      "id": "3701e03c-c754-4c4a-a2ee-3624bb7cb7b7",
      "metadata": {
        "id": "3701e03c-c754-4c4a-a2ee-3624bb7cb7b7"
      },
      "outputs": [],
      "source": [
        "import glob as glob\n",
        "import pandas as pd\n",
        "import os\n",
        "from datetime import date, datetime"
      ]
    },
    {
      "cell_type": "code",
      "execution_count": null,
      "id": "13eb7bda-9400-4303-b8f2-a260be4d4678",
      "metadata": {
        "id": "13eb7bda-9400-4303-b8f2-a260be4d4678"
      },
      "outputs": [],
      "source": [
        "d = date.today()\n",
        "d = str(d)\n",
        "results_list = glob.glob(results_folder +  '*/*.txt')\n",
        "metadata = pd.read_csv('/home/jupyter/gcs_raw/nr-acoustic-data/metadata/NR_deployment_2022_ARUs.csv')\n",
        "\n",
        "li = []\n",
        "\n",
        "for filename in results_list:\n",
        "    df = pd.read_csv(filename, sep='\\t')\n",
        "    df['file_name'] = os.path.splitext(os.path.basename(filename))[0]\n",
        "    df['path'] = filename[:-3]+'WAV'\n",
        "    df['datetime'] = [f[0:15] for f in df['file_name']]\n",
        "    df['time'] = pd.to_datetime(df['datetime'], format='%Y%m%d_%H%M%S') +  pd.to_timedelta(df[\"Begin Time (s)\"], unit='s')\n",
        "    df['date'] = [f[0:7] for f in df['file_name']]\n",
        "    df['ID'] = os.path.basename(os.path.dirname(filename))\n",
        "    li.append(df)\n",
        "\n",
        "frame = pd.concat(li, axis=0, ignore_index=True)\n",
        "frame = pd.merge(frame, metadata, on='ID', how='inner')\n",
        "frame.to_csv(results_folder + d + '_concatenated_results_birdnet.csv')"
      ]
    },
    {
      "cell_type": "code",
      "execution_count": null,
      "id": "f4f1e0f7-6190-4945-85c5-1bec5266abca",
      "metadata": {
        "id": "f4f1e0f7-6190-4945-85c5-1bec5266abca"
      },
      "outputs": [],
      "source": [
        "# Shutdown the notebook   \n",
        "!sudo shutdown -h now "
      ]
    }
  ],
  "metadata": {
    "environment": {
      "kernel": "python3",
      "name": "tf2-gpu.2-8.m100",
      "type": "gcloud",
      "uri": "gcr.io/deeplearning-platform-release/tf2-gpu.2-8:m100"
    },
    "kernelspec": {
      "display_name": "Python 3",
      "language": "python",
      "name": "python3"
    },
    "language_info": {
      "codemirror_mode": {
        "name": "ipython",
        "version": 3
      },
      "file_extension": ".py",
      "mimetype": "text/x-python",
      "name": "python",
      "nbconvert_exporter": "python",
      "pygments_lexer": "ipython3",
      "version": "3.7.12"
    },
    "colab": {
      "provenance": [],
      "include_colab_link": true
    }
  },
  "nbformat": 4,
  "nbformat_minor": 5
}