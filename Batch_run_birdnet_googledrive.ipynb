{
  "cells": [
    {
      "cell_type": "markdown",
      "metadata": {
        "id": "view-in-github",
        "colab_type": "text"
      },
      "source": [
        "<a href=\"https://colab.research.google.com/github/lydiakatsis/zsl-acoustic-monitoring-scripts/blob/main/Batch_run_birdnet_googledrive.ipynb\" target=\"_parent\"><img src=\"https://colab.research.google.com/assets/colab-badge.svg\" alt=\"Open In Colab\"/></a>"
      ]
    },
    {
      "cell_type": "markdown",
      "metadata": {
        "id": "28OuMSMlf5Dn"
      },
      "source": [
        "## **Run BirdNet Lite on GoogleDrive folder**\n",
        "\n",
        "Code from https://github.com/kahst/BirdNET-Lite \n",
        "\n",
        "Forked version used, as was adapted to run through all files in directory: https://github.com/UCSD-E4E/BirdNET-Lite \n",
        "\n",
        "Now using my own forked repo as uploaded a bird list to run with the model\n",
        "https://github.com/lydiakatsis/BirdNET-Lite.git \n"
      ]
    },
    {
      "cell_type": "markdown",
      "metadata": {
        "id": "WcHvj-6ad1Ro"
      },
      "source": [
        "# BirdNET-Lite\n",
        "TFLite version of BirdNET. Bird sound recognition for more than 6,000 species worldwide.\n",
        "\n",
        "Center for Conservation Bioacoustics, Cornell Lab of Ornithology, Cornell University. Go to https://birdnet.cornell.edu to learn more about the project.\n",
        "\n",
        "You can run BirdNET via the command line. You can add a few parameters that affect the output.\n",
        "\n",
        "The input parameters include:\n",
        "\n",
        "```\n",
        "--i, Path to input folder. All the nested folders will also be processed.\n",
        "--o, Path to output folder. By default results are written into the input folder.\n",
        "--lat, Recording location latitude. Set -1 to ignore.\n",
        "--lon, Recording location longitude. Set -1 to ignore.\n",
        "--week, Week of the year when the recording was made. Values in [1, 48] (4 weeks per month). Set -1 to ignore.\n",
        "--overlap, Overlap in seconds between extracted spectrograms. Values in [0.0, 2.9]. Defaults tp 0.0.\n",
        "--sensitivity, Detection sensitivity; Higher values result in higher sensitivity. Values in [0.5, 1.5]. Defaults to 1.0.\n",
        "--min_conf, Minimum confidence threshold. Values in [0.01, 0.99]. Defaults to 0.1.\n",
        "--custom_list, Path to text file containing a list of species. Not used if not provided.\n",
        "--filetype, Filetype of soundscape recordings. Defaults to 'wav'.\n",
        "```\n",
        "\n",
        "Note: A custom species list needs to contain one species label per line. Take a look at the `model/label.txt` for the correct species label. Only labels from this text file are valid. You can find an example of a valid custom list in the 'example' folder.\n",
        "\n",
        "Here are two example commands to run this BirdNET version:\n",
        "\n",
        "```\n",
        "\n",
        "python3 analyze.py --i 'example/XC558716 - Soundscape.mp3' --lat 35.4244 --lon -120.7463 --week 18\n",
        "\n",
        "python3 analyze.py --i 'example/XC563936 - Soundscape.mp3' --lat 47.6766 --lon -122.294 --week 11 --overlap 1.5 --min_conf 0.25 --sensitivity 1.25 --custom_list 'example/custom_species_list.txt'\n",
        "\n",
        "```\n",
        "\n",
        "Note: Please make sure to provide lat, lon, and week. BirdNET will work without these values, but the results might be less reliable.\n",
        "\n",
        "The results of the anlysis will be stored in a result file in CSV format. All confidence values are raw prediction scores and should be post-processed to eliminate occasional false-positive results.\n"
      ]
    },
    {
      "cell_type": "markdown",
      "source": [
        "# Load libaries"
      ],
      "metadata": {
        "id": "3Xv60Tk96XD2"
      }
    },
    {
      "cell_type": "code",
      "execution_count": 22,
      "metadata": {
        "id": "M1yF00zH2BkT"
      },
      "outputs": [],
      "source": [
        "import glob as glob\n",
        "import pandas as pd\n",
        "import datetime\n",
        "from datetime import datetime, timedelta\n",
        "import os\n",
        "import numpy as np\n",
        "from google.colab import drive\n",
        "import random\n",
        "from pathlib import Path"
      ]
    },
    {
      "cell_type": "markdown",
      "metadata": {
        "id": "KtAnnR5PgwBf"
      },
      "source": [
        "# Clone the required Git repos"
      ]
    },
    {
      "cell_type": "code",
      "execution_count": 2,
      "metadata": {
        "colab": {
          "base_uri": "https://localhost:8080/"
        },
        "id": "U3594Xwigxy_",
        "outputId": "09fd3e70-9c8e-4e5c-81f2-deed044a5762"
      },
      "outputs": [
        {
          "output_type": "stream",
          "name": "stdout",
          "text": [
            "Cloning into 'BirdNET-Lite'...\n",
            "remote: Enumerating objects: 42, done.\u001b[K\n",
            "remote: Total 42 (delta 0), reused 0 (delta 0), pack-reused 42\u001b[K\n",
            "Unpacking objects: 100% (42/42), done.\n"
          ]
        }
      ],
      "source": [
        "!git clone https://github.com/lydiakatsis/BirdNET-Lite.git"
      ]
    },
    {
      "cell_type": "markdown",
      "metadata": {
        "id": "kXOY-iqBhPpo"
      },
      "source": [
        "**Copy the python scripts required to run the detector**"
      ]
    },
    {
      "cell_type": "code",
      "execution_count": 3,
      "metadata": {
        "id": "hyz3N8JjhSlq"
      },
      "outputs": [],
      "source": [
        "!cp /content/BirdNET-Lite/analyze.py ."
      ]
    },
    {
      "cell_type": "markdown",
      "metadata": {
        "id": "bhQyPXk3idkQ"
      },
      "source": [
        "# Mount Google Drive\n",
        "For instructions mounting Teams or downloading data from GoogleCloud Bucket go here.\n"
      ]
    },
    {
      "cell_type": "code",
      "execution_count": 4,
      "metadata": {
        "colab": {
          "base_uri": "https://localhost:8080/"
        },
        "id": "ubJtHjpYigIu",
        "outputId": "5786ea77-b502-4b0c-b873-a9ef5b22bc5a"
      },
      "outputs": [
        {
          "output_type": "stream",
          "name": "stdout",
          "text": [
            "Drive already mounted at /content/drive; to attempt to forcibly remount, call drive.mount(\"/content/drive\", force_remount=True).\n"
          ]
        }
      ],
      "source": [
        "drive.mount('/content/drive')"
      ]
    },
    {
      "cell_type": "code",
      "execution_count": 5,
      "metadata": {
        "id": "47wH2F4Gjt0m"
      },
      "outputs": [],
      "source": [
        "os.chdir('/content/BirdNET-Lite')"
      ]
    },
    {
      "cell_type": "markdown",
      "metadata": {
        "id": "iRtHiI4LjhVI"
      },
      "source": [
        "# Run the model\n"
      ]
    },
    {
      "cell_type": "markdown",
      "metadata": {
        "id": "lkZateSbtm6j"
      },
      "source": [
        "Provide folder name and will recursively analyse all files in folder, saving a csv for each file titled with the file name next to the sound file"
      ]
    },
    {
      "cell_type": "code",
      "execution_count": 6,
      "metadata": {
        "id": "MwM8Yzq60D6O"
      },
      "outputs": [],
      "source": [
        "# Change folder to where sound files are stored\n",
        "folder = \"/content/drive/MyDrive/ZSL/Network Rail project/trial_data/\"    "
      ]
    },
    {
      "cell_type": "code",
      "execution_count": 7,
      "metadata": {
        "colab": {
          "base_uri": "https://localhost:8080/"
        },
        "id": "3Xcn-7GZ0i4E",
        "outputId": "818791a1-88e4-40e6-ece7-427d5ea394a0"
      },
      "outputs": [
        {
          "output_type": "stream",
          "name": "stdout",
          "text": [
            "INFO: Created TensorFlow Lite delegate for select TF ops.\n",
            "INFO: TfLiteFlexDelegate delegate: 1 nodes delegated out of 182 nodes with 1 partitions.\n",
            "\n",
            "INFO: Created TensorFlow Lite XNNPACK delegate for CPU.\n",
            "LOADING TF LITE MODEL... DONE!\n",
            "READING AUDIO DATA... tcmalloc: large alloc 1382400000 bytes == 0x88a8000 @  0x7fc73c4601e7 0x7fc7063ba0ce 0x7fc706410cf5 0x7fc706410f4f 0x7fc7064b3673 0x58f62c 0x510bf2 0x58fd37 0x510325 0x5b4ee6 0x58ff2e 0x50d482 0x5b4ee6 0x58ff2e 0x50d482 0x5b4ee6 0x58ff2e 0x50c4fc 0x58fd37 0x50c4fc 0x5b4ee6 0x6005a3 0x607796 0x60785c 0x60a436 0x64db82 0x64dd2e 0x7fc73c05dc87 0x5b636a\n",
            "DONE! READ 2400 CHUNKS.\n",
            "ANALYZING AUDIO... DONE! Time 242.6 SECONDS\n",
            "WRITING RESULTS TO /content/drive/MyDrive/ZSL/Network Rail project/trial_data/20220304_172600.csv ... DONE! WROTE 164 RESULTS.\n",
            "READING AUDIO DATA... tcmalloc: large alloc 1382400000 bytes == 0x5e678000 @  0x7fc73c4601e7 0x7fc7063ba0ce 0x7fc706410cf5 0x7fc706410f4f 0x7fc7064b3673 0x58f62c 0x510bf2 0x58fd37 0x510325 0x5b4ee6 0x58ff2e 0x50d482 0x5b4ee6 0x58ff2e 0x50d482 0x5b4ee6 0x58ff2e 0x50c4fc 0x58fd37 0x50c4fc 0x5b4ee6 0x6005a3 0x607796 0x60785c 0x60a436 0x64db82 0x64dd2e 0x7fc73c05dc87 0x5b636a\n",
            "DONE! READ 2400 CHUNKS.\n",
            "ANALYZING AUDIO... DONE! Time 244.7 SECONDS\n",
            "WRITING RESULTS TO /content/drive/MyDrive/ZSL/Network Rail project/trial_data/20220305_062700.csv ... DONE! WROTE 536 RESULTS.\n"
          ]
        }
      ],
      "source": [
        "# Make sure to update lat, long, week, and min_conf \n",
        "!python /content/BirdNET-Lite/analyze.py --i \"$folder\" --lat 51.507359 --lon -0.136439 --week 9 --min_conf 0.5 --sensitivity 0.85 --custom_list 'london_birdnet_a.txt'\n"
      ]
    },
    {
      "cell_type": "markdown",
      "metadata": {
        "id": "XU2Y2Jy3zqJZ"
      },
      "source": [
        "# Read in results csvs and reformat to make easier to interpret\n",
        "This code reads in all the invididual csvs created, and compiles into one, with information of file name, date and time added. Resulting csv written to folder location, under name of 'concatenated_results.csv'"
      ]
    },
    {
      "cell_type": "code",
      "execution_count": 10,
      "metadata": {
        "id": "pMGh6hSZzuoA"
      },
      "outputs": [],
      "source": [
        "results_list = glob.glob(folder +  '/*.csv')"
      ]
    },
    {
      "cell_type": "code",
      "execution_count": 13,
      "metadata": {
        "id": "Pwa-BIWo3E7K"
      },
      "outputs": [],
      "source": [
        "li = []\n",
        "\n",
        "for filename in results_list:\n",
        "    df = pd.read_csv(filename, sep=';')\n",
        "    df['file_name'] = os.path.splitext(os.path.basename(filename))[0]\n",
        "    df['path'] = filename[:-3]+'WAV'\n",
        "    df['date'] = [f[0:7] for f in df['file_name']]\n",
        "    df['time'] = [f[9:15] for f in df['file_name']]\n",
        "\n",
        "    li.append(df)\n",
        "\n",
        "frame = pd.concat(li, axis=0, ignore_index=True)\n",
        "\n",
        "frame.to_csv(folder + '/concatenated_results.csv')"
      ]
    },
    {
      "cell_type": "markdown",
      "metadata": {
        "id": "fiC_zRCuHz66"
      },
      "source": [
        "# Results summary - create list of unique species IDs\n",
        "- later - show sample of spectrograms with labels printed"
      ]
    },
    {
      "cell_type": "code",
      "execution_count": 14,
      "metadata": {
        "colab": {
          "base_uri": "https://localhost:8080/"
        },
        "id": "w0fk1uCIJ6II",
        "outputId": "387bb914-6c0f-4f0a-bbc3-d356b7b34496"
      },
      "outputs": [
        {
          "output_type": "stream",
          "name": "stdout",
          "text": [
            "number of species: 22\n"
          ]
        }
      ],
      "source": [
        "print('number of species:', frame['Common name'].nunique()  )"
      ]
    },
    {
      "cell_type": "code",
      "execution_count": 15,
      "metadata": {
        "id": "rIOxjGkCKhyq",
        "colab": {
          "base_uri": "https://localhost:8080/"
        },
        "outputId": "7246b9f7-5da9-48d3-e217-b5adfaf44e14"
      },
      "outputs": [
        {
          "output_type": "execute_result",
          "data": {
            "text/plain": [
              "European Robin              323\n",
              "Eurasian Wren               139\n",
              "Great Tit                    65\n",
              "Eurasian Collared-Dove       54\n",
              "Rose-ringed Parakeet         39\n",
              "Great Spotted Woodpecker     26\n",
              "Eurasian Magpie               9\n",
              "Dunnock                       9\n",
              "Common Wood-Pigeon            7\n",
              "Eurasian Blackbird            7\n",
              "Eurasian Blue Tit             7\n",
              "Carrion Crow                  3\n",
              "European Pied Flycatcher      2\n",
              "Eurasian Siskin               2\n",
              "Common Firecrest              1\n",
              "Spotted Flycatcher            1\n",
              "Black Redstart                1\n",
              "European Goldfinch            1\n",
              "Eurasian Treecreeper          1\n",
              "Long-eared Owl                1\n",
              "Goldcrest                     1\n",
              "Hawfinch                      1\n",
              "Name: Common name, dtype: int64"
            ]
          },
          "metadata": {},
          "execution_count": 15
        }
      ],
      "source": [
        "frame['Common name'].value_counts()"
      ]
    },
    {
      "cell_type": "markdown",
      "source": [
        "# Create separate folders for validation\n",
        "The below code will copy x random examples of sounds classified as each species into a new folder called 'validation', a separate folder entitled the species name will be created for each species, containing examples to validate manually."
      ],
      "metadata": {
        "id": "mlsNgEpg8cN9"
      }
    },
    {
      "cell_type": "code",
      "source": [
        "random.seed(0)\n",
        "np.random.seed(0)"
      ],
      "metadata": {
        "id": "lvKVHl9i-Ij7"
      },
      "execution_count": 19,
      "outputs": []
    },
    {
      "cell_type": "code",
      "source": [
        "validation_folders = folder + 'validation'\n",
        "Path(validation_folders).mkdir(exist_ok=True)"
      ],
      "metadata": {
        "id": "Z_LI4W0s8g7f"
      },
      "execution_count": 47,
      "outputs": []
    },
    {
      "cell_type": "code",
      "source": [
        "bird_results = pd.read_csv(folder + 'concatenated_results.csv')"
      ],
      "metadata": {
        "id": "I-1QSHMw-KCR"
      },
      "execution_count": 24,
      "outputs": []
    },
    {
      "cell_type": "code",
      "source": [
        "# Select up to 50 random files for each species\n",
        "size = 50        # sample size\n",
        "replace = True  # with replacement\n",
        "fn = lambda obj: obj.loc[np.random.choice(obj.index, size, replace),:]\n",
        "bird_results_random = bird_results.groupby('Common name', as_index=False).apply(fn)\n",
        "\n",
        "# Remove duplcates\n",
        "bird_results_random = bird_results_random.drop_duplicates(subset=['Common name','path','Start (s)'])\n"
      ],
      "metadata": {
        "id": "C8chBpSy-f-F"
      },
      "execution_count": 32,
      "outputs": []
    },
    {
      "cell_type": "code",
      "source": [
        "!pip install opensoundscape\n"
      ],
      "metadata": {
        "id": "Nxtfp-u6FMsi"
      },
      "execution_count": null,
      "outputs": []
    },
    {
      "cell_type": "code",
      "source": [
        "from opensoundscape.audio import Audio"
      ],
      "metadata": {
        "id": "ONBH_Mo-FzdF"
      },
      "execution_count": 40,
      "outputs": []
    },
    {
      "cell_type": "code",
      "source": [
        "# For each species, create a folder in val-folders, name is species name\n",
        "# Read file, and trim between start and end time\n",
        "# write file into new folder\n",
        "\n",
        "grouped = bird_results_random.groupby('Common name')\n",
        "\n",
        "for group_name, df_group in grouped:\n",
        "    save_dir = validation_folders + '/' + group_name\n",
        "    print('making new folder: ' + save_dir)\n",
        "    Path(save_dir).mkdir(exist_ok=True)\n",
        "\n",
        "    for row_index, row in df_group.iterrows():\n",
        "        file_path = row['path']\n",
        "        basename = os.path.basename(file_path)\n",
        "        start = row['Start (s)']\n",
        "        end = row['End (s)']\n",
        "        new_name = save_dir + '/' + str(start) + '_' + basename\n",
        "        print(new_name)\n",
        "        audio_object = Audio.from_file(file_path).trim(start,end)\n",
        "        audio_object.save(new_name)\n",
        "\n",
        "        \n",
        "        \n",
        "    print(\");\")    "
      ],
      "metadata": {
        "colab": {
          "base_uri": "https://localhost:8080/",
          "height": 485
        },
        "id": "Rd2UOcDP-mWj",
        "outputId": "3dc8632d-b065-4b68-8b58-bad81c675c6d"
      },
      "execution_count": 43,
      "outputs": [
        {
          "output_type": "stream",
          "name": "stdout",
          "text": [
            "making new folder: /content/drive/MyDrive/ZSL/Network Rail project/trial_data//validation/Black Redstart\n",
            "/content/drive/MyDrive/ZSL/Network Rail project/trial_data//validation/Black Redstart/495.0_20220304_172600.WAV\n",
            ");\n",
            "making new folder: /content/drive/MyDrive/ZSL/Network Rail project/trial_data//validation/Carrion Crow\n",
            "/content/drive/MyDrive/ZSL/Network Rail project/trial_data//validation/Carrion Crow/7041.0_20220305_062700.WAV\n",
            "/content/drive/MyDrive/ZSL/Network Rail project/trial_data//validation/Carrion Crow/1875.0_20220305_062700.WAV\n"
          ]
        },
        {
          "output_type": "error",
          "ename": "KeyboardInterrupt",
          "evalue": "ignored",
          "traceback": [
            "\u001b[0;31m---------------------------------------------------------------------------\u001b[0m",
            "\u001b[0;31mKeyboardInterrupt\u001b[0m                         Traceback (most recent call last)",
            "\u001b[0;32m<ipython-input-43-2ef65b945dbf>\u001b[0m in \u001b[0;36m<module>\u001b[0;34m\u001b[0m\n\u001b[1;32m     17\u001b[0m         \u001b[0mnew_name\u001b[0m \u001b[0;34m=\u001b[0m \u001b[0msave_dir\u001b[0m \u001b[0;34m+\u001b[0m \u001b[0;34m'/'\u001b[0m \u001b[0;34m+\u001b[0m \u001b[0mstr\u001b[0m\u001b[0;34m(\u001b[0m\u001b[0mstart\u001b[0m\u001b[0;34m)\u001b[0m \u001b[0;34m+\u001b[0m \u001b[0;34m'_'\u001b[0m \u001b[0;34m+\u001b[0m \u001b[0mbasename\u001b[0m\u001b[0;34m\u001b[0m\u001b[0;34m\u001b[0m\u001b[0m\n\u001b[1;32m     18\u001b[0m         \u001b[0mprint\u001b[0m\u001b[0;34m(\u001b[0m\u001b[0mnew_name\u001b[0m\u001b[0;34m)\u001b[0m\u001b[0;34m\u001b[0m\u001b[0;34m\u001b[0m\u001b[0m\n\u001b[0;32m---> 19\u001b[0;31m         \u001b[0maudio_object\u001b[0m \u001b[0;34m=\u001b[0m \u001b[0mAudio\u001b[0m\u001b[0;34m.\u001b[0m\u001b[0mfrom_file\u001b[0m\u001b[0;34m(\u001b[0m\u001b[0mfile_path\u001b[0m\u001b[0;34m)\u001b[0m\u001b[0;34m.\u001b[0m\u001b[0mtrim\u001b[0m\u001b[0;34m(\u001b[0m\u001b[0mstart\u001b[0m\u001b[0;34m,\u001b[0m\u001b[0mend\u001b[0m\u001b[0;34m)\u001b[0m\u001b[0;34m\u001b[0m\u001b[0;34m\u001b[0m\u001b[0m\n\u001b[0m\u001b[1;32m     20\u001b[0m         \u001b[0maudio_object\u001b[0m\u001b[0;34m.\u001b[0m\u001b[0msave\u001b[0m\u001b[0;34m(\u001b[0m\u001b[0mnew_name\u001b[0m\u001b[0;34m)\u001b[0m\u001b[0;34m\u001b[0m\u001b[0;34m\u001b[0m\u001b[0m\n\u001b[1;32m     21\u001b[0m \u001b[0;34m\u001b[0m\u001b[0m\n",
            "\u001b[0;32m/usr/local/lib/python3.7/dist-packages/opensoundscape/audio.py\u001b[0m in \u001b[0;36mfrom_file\u001b[0;34m(cls, path, sample_rate, resample_type, metadata, offset, duration, start_timestamp, out_of_bounds_mode)\u001b[0m\n\u001b[1;32m    230\u001b[0m             \u001b[0mmono\u001b[0m\u001b[0;34m=\u001b[0m\u001b[0;32mTrue\u001b[0m\u001b[0;34m,\u001b[0m\u001b[0;34m\u001b[0m\u001b[0;34m\u001b[0m\u001b[0m\n\u001b[1;32m    231\u001b[0m             \u001b[0moffset\u001b[0m\u001b[0;34m=\u001b[0m\u001b[0moffset\u001b[0m\u001b[0;34m,\u001b[0m\u001b[0;34m\u001b[0m\u001b[0;34m\u001b[0m\u001b[0m\n\u001b[0;32m--> 232\u001b[0;31m             \u001b[0mduration\u001b[0m\u001b[0;34m=\u001b[0m\u001b[0mduration\u001b[0m\u001b[0;34m,\u001b[0m\u001b[0;34m\u001b[0m\u001b[0;34m\u001b[0m\u001b[0m\n\u001b[0m\u001b[1;32m    233\u001b[0m         )\n\u001b[1;32m    234\u001b[0m         \u001b[0mwarnings\u001b[0m\u001b[0;34m.\u001b[0m\u001b[0mresetwarnings\u001b[0m\u001b[0;34m(\u001b[0m\u001b[0;34m)\u001b[0m\u001b[0;34m\u001b[0m\u001b[0;34m\u001b[0m\u001b[0m\n",
            "\u001b[0;32m/usr/local/lib/python3.7/dist-packages/librosa/core/audio.py\u001b[0m in \u001b[0;36mload\u001b[0;34m(path, sr, mono, offset, duration, dtype, res_type)\u001b[0m\n\u001b[1;32m    158\u001b[0m \u001b[0;34m\u001b[0m\u001b[0m\n\u001b[1;32m    159\u001b[0m             \u001b[0;31m# Load the target number of frames, and transpose to match librosa form\u001b[0m\u001b[0;34m\u001b[0m\u001b[0;34m\u001b[0m\u001b[0;34m\u001b[0m\u001b[0m\n\u001b[0;32m--> 160\u001b[0;31m             \u001b[0my\u001b[0m \u001b[0;34m=\u001b[0m \u001b[0msf_desc\u001b[0m\u001b[0;34m.\u001b[0m\u001b[0mread\u001b[0m\u001b[0;34m(\u001b[0m\u001b[0mframes\u001b[0m\u001b[0;34m=\u001b[0m\u001b[0mframe_duration\u001b[0m\u001b[0;34m,\u001b[0m \u001b[0mdtype\u001b[0m\u001b[0;34m=\u001b[0m\u001b[0mdtype\u001b[0m\u001b[0;34m,\u001b[0m \u001b[0malways_2d\u001b[0m\u001b[0;34m=\u001b[0m\u001b[0;32mFalse\u001b[0m\u001b[0;34m)\u001b[0m\u001b[0;34m.\u001b[0m\u001b[0mT\u001b[0m\u001b[0;34m\u001b[0m\u001b[0;34m\u001b[0m\u001b[0m\n\u001b[0m\u001b[1;32m    161\u001b[0m \u001b[0;34m\u001b[0m\u001b[0m\n\u001b[1;32m    162\u001b[0m     \u001b[0;32mexcept\u001b[0m \u001b[0mRuntimeError\u001b[0m \u001b[0;32mas\u001b[0m \u001b[0mexc\u001b[0m\u001b[0;34m:\u001b[0m\u001b[0;34m\u001b[0m\u001b[0;34m\u001b[0m\u001b[0m\n",
            "\u001b[0;32m/usr/local/lib/python3.7/dist-packages/soundfile.py\u001b[0m in \u001b[0;36mread\u001b[0;34m(self, frames, dtype, always_2d, fill_value, out)\u001b[0m\n\u001b[1;32m    890\u001b[0m             \u001b[0;32mif\u001b[0m \u001b[0mframes\u001b[0m \u001b[0;34m<\u001b[0m \u001b[0;36m0\u001b[0m \u001b[0;32mor\u001b[0m \u001b[0mframes\u001b[0m \u001b[0;34m>\u001b[0m \u001b[0mlen\u001b[0m\u001b[0;34m(\u001b[0m\u001b[0mout\u001b[0m\u001b[0;34m)\u001b[0m\u001b[0;34m:\u001b[0m\u001b[0;34m\u001b[0m\u001b[0;34m\u001b[0m\u001b[0m\n\u001b[1;32m    891\u001b[0m                 \u001b[0mframes\u001b[0m \u001b[0;34m=\u001b[0m \u001b[0mlen\u001b[0m\u001b[0;34m(\u001b[0m\u001b[0mout\u001b[0m\u001b[0;34m)\u001b[0m\u001b[0;34m\u001b[0m\u001b[0;34m\u001b[0m\u001b[0m\n\u001b[0;32m--> 892\u001b[0;31m         \u001b[0mframes\u001b[0m \u001b[0;34m=\u001b[0m \u001b[0mself\u001b[0m\u001b[0;34m.\u001b[0m\u001b[0m_array_io\u001b[0m\u001b[0;34m(\u001b[0m\u001b[0;34m'read'\u001b[0m\u001b[0;34m,\u001b[0m \u001b[0mout\u001b[0m\u001b[0;34m,\u001b[0m \u001b[0mframes\u001b[0m\u001b[0;34m)\u001b[0m\u001b[0;34m\u001b[0m\u001b[0;34m\u001b[0m\u001b[0m\n\u001b[0m\u001b[1;32m    893\u001b[0m         \u001b[0;32mif\u001b[0m \u001b[0mlen\u001b[0m\u001b[0;34m(\u001b[0m\u001b[0mout\u001b[0m\u001b[0;34m)\u001b[0m \u001b[0;34m>\u001b[0m \u001b[0mframes\u001b[0m\u001b[0;34m:\u001b[0m\u001b[0;34m\u001b[0m\u001b[0;34m\u001b[0m\u001b[0m\n\u001b[1;32m    894\u001b[0m             \u001b[0;32mif\u001b[0m \u001b[0mfill_value\u001b[0m \u001b[0;32mis\u001b[0m \u001b[0;32mNone\u001b[0m\u001b[0;34m:\u001b[0m\u001b[0;34m\u001b[0m\u001b[0;34m\u001b[0m\u001b[0m\n",
            "\u001b[0;32m/usr/local/lib/python3.7/dist-packages/soundfile.py\u001b[0m in \u001b[0;36m_array_io\u001b[0;34m(self, action, array, frames)\u001b[0m\n\u001b[1;32m   1339\u001b[0m         \u001b[0;32massert\u001b[0m \u001b[0marray\u001b[0m\u001b[0;34m.\u001b[0m\u001b[0mdtype\u001b[0m\u001b[0;34m.\u001b[0m\u001b[0mitemsize\u001b[0m \u001b[0;34m==\u001b[0m \u001b[0m_ffi\u001b[0m\u001b[0;34m.\u001b[0m\u001b[0msizeof\u001b[0m\u001b[0;34m(\u001b[0m\u001b[0mctype\u001b[0m\u001b[0;34m)\u001b[0m\u001b[0;34m\u001b[0m\u001b[0;34m\u001b[0m\u001b[0m\n\u001b[1;32m   1340\u001b[0m         \u001b[0mcdata\u001b[0m \u001b[0;34m=\u001b[0m \u001b[0m_ffi\u001b[0m\u001b[0;34m.\u001b[0m\u001b[0mcast\u001b[0m\u001b[0;34m(\u001b[0m\u001b[0mctype\u001b[0m \u001b[0;34m+\u001b[0m \u001b[0;34m'*'\u001b[0m\u001b[0;34m,\u001b[0m \u001b[0marray\u001b[0m\u001b[0;34m.\u001b[0m\u001b[0m__array_interface__\u001b[0m\u001b[0;34m[\u001b[0m\u001b[0;34m'data'\u001b[0m\u001b[0;34m]\u001b[0m\u001b[0;34m[\u001b[0m\u001b[0;36m0\u001b[0m\u001b[0;34m]\u001b[0m\u001b[0;34m)\u001b[0m\u001b[0;34m\u001b[0m\u001b[0;34m\u001b[0m\u001b[0m\n\u001b[0;32m-> 1341\u001b[0;31m         \u001b[0;32mreturn\u001b[0m \u001b[0mself\u001b[0m\u001b[0;34m.\u001b[0m\u001b[0m_cdata_io\u001b[0m\u001b[0;34m(\u001b[0m\u001b[0maction\u001b[0m\u001b[0;34m,\u001b[0m \u001b[0mcdata\u001b[0m\u001b[0;34m,\u001b[0m \u001b[0mctype\u001b[0m\u001b[0;34m,\u001b[0m \u001b[0mframes\u001b[0m\u001b[0;34m)\u001b[0m\u001b[0;34m\u001b[0m\u001b[0;34m\u001b[0m\u001b[0m\n\u001b[0m\u001b[1;32m   1342\u001b[0m \u001b[0;34m\u001b[0m\u001b[0m\n\u001b[1;32m   1343\u001b[0m     \u001b[0;32mdef\u001b[0m \u001b[0m_cdata_io\u001b[0m\u001b[0;34m(\u001b[0m\u001b[0mself\u001b[0m\u001b[0;34m,\u001b[0m \u001b[0maction\u001b[0m\u001b[0;34m,\u001b[0m \u001b[0mdata\u001b[0m\u001b[0;34m,\u001b[0m \u001b[0mctype\u001b[0m\u001b[0;34m,\u001b[0m \u001b[0mframes\u001b[0m\u001b[0;34m)\u001b[0m\u001b[0;34m:\u001b[0m\u001b[0;34m\u001b[0m\u001b[0;34m\u001b[0m\u001b[0m\n",
            "\u001b[0;32m/usr/local/lib/python3.7/dist-packages/soundfile.py\u001b[0m in \u001b[0;36m_cdata_io\u001b[0;34m(self, action, data, ctype, frames)\u001b[0m\n\u001b[1;32m   1348\u001b[0m             \u001b[0mcurr\u001b[0m \u001b[0;34m=\u001b[0m \u001b[0mself\u001b[0m\u001b[0;34m.\u001b[0m\u001b[0mtell\u001b[0m\u001b[0;34m(\u001b[0m\u001b[0;34m)\u001b[0m\u001b[0;34m\u001b[0m\u001b[0;34m\u001b[0m\u001b[0m\n\u001b[1;32m   1349\u001b[0m         \u001b[0mfunc\u001b[0m \u001b[0;34m=\u001b[0m \u001b[0mgetattr\u001b[0m\u001b[0;34m(\u001b[0m\u001b[0m_snd\u001b[0m\u001b[0;34m,\u001b[0m \u001b[0;34m'sf_'\u001b[0m \u001b[0;34m+\u001b[0m \u001b[0maction\u001b[0m \u001b[0;34m+\u001b[0m \u001b[0;34m'f_'\u001b[0m \u001b[0;34m+\u001b[0m \u001b[0mctype\u001b[0m\u001b[0;34m)\u001b[0m\u001b[0;34m\u001b[0m\u001b[0;34m\u001b[0m\u001b[0m\n\u001b[0;32m-> 1350\u001b[0;31m         \u001b[0mframes\u001b[0m \u001b[0;34m=\u001b[0m \u001b[0mfunc\u001b[0m\u001b[0;34m(\u001b[0m\u001b[0mself\u001b[0m\u001b[0;34m.\u001b[0m\u001b[0m_file\u001b[0m\u001b[0;34m,\u001b[0m \u001b[0mdata\u001b[0m\u001b[0;34m,\u001b[0m \u001b[0mframes\u001b[0m\u001b[0;34m)\u001b[0m\u001b[0;34m\u001b[0m\u001b[0;34m\u001b[0m\u001b[0m\n\u001b[0m\u001b[1;32m   1351\u001b[0m         \u001b[0m_error_check\u001b[0m\u001b[0;34m(\u001b[0m\u001b[0mself\u001b[0m\u001b[0;34m.\u001b[0m\u001b[0m_errorcode\u001b[0m\u001b[0;34m)\u001b[0m\u001b[0;34m\u001b[0m\u001b[0;34m\u001b[0m\u001b[0m\n\u001b[1;32m   1352\u001b[0m         \u001b[0;32mif\u001b[0m \u001b[0mself\u001b[0m\u001b[0;34m.\u001b[0m\u001b[0mseekable\u001b[0m\u001b[0;34m(\u001b[0m\u001b[0;34m)\u001b[0m\u001b[0;34m:\u001b[0m\u001b[0;34m\u001b[0m\u001b[0;34m\u001b[0m\u001b[0m\n",
            "\u001b[0;31mKeyboardInterrupt\u001b[0m: "
          ]
        }
      ]
    },
    {
      "cell_type": "code",
      "source": [
        "from pandas import ExcelWriter\n",
        "list_dfs = []\n",
        "\n",
        "folders = sorted(glob.glob(validation_folders + '/*'))\n",
        "\n",
        "for folder in folders:\n",
        "    species = os.path.basename(folder)\n",
        "    files = sorted(glob.glob(folder + '/*.WAV'))\n",
        "    names = [os.path.basename(x) for x in files]\n",
        "    df = pd.DataFrame(data=files, columns = ['filename'])\n",
        "    df['number'] = [float(a.split('_')[0]) for a in names]\n",
        "    df['name'] = names\n",
        "    df['Insert verification column here...'] = ''\n",
        "    df = df.sort_values(by=['number'])\n",
        "    df = df.drop(columns='number')\n",
        "    df['species'] = species\n",
        "    list_dfs.append(df)\n",
        "\n",
        "df = pd.concat(list_dfs)\n",
        "df = df.reset_index()\n",
        "df = df[['species', 'filename', 'name', 'Insert verification column here...']]\n",
        "df.to_excel(validation_folders + '/validation_spreadsheet.xlsx' , index=False)\n"
      ],
      "metadata": {
        "id": "gylVJ2Ko_Hni"
      },
      "execution_count": 55,
      "outputs": []
    }
  ],
  "metadata": {
    "colab": {
      "provenance": [],
      "mount_file_id": "1nhPO1Po7WSUNvkC7dHJmBWv0nWkOs7kY",
      "authorship_tag": "ABX9TyPqiNXtyMx/D+jVDoibecnX",
      "include_colab_link": true
    },
    "kernelspec": {
      "display_name": "Python 3",
      "name": "python3"
    },
    "language_info": {
      "name": "python"
    },
    "accelerator": "GPU"
  },
  "nbformat": 4,
  "nbformat_minor": 0
}